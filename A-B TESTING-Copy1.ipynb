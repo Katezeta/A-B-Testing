{
 "cells": [
  {
   "cell_type": "markdown",
   "id": "9288b9f8",
   "metadata": {},
   "source": [
    "# Project Description\n",
    "\n",
    "Context:\n",
    "You are an analyst at a large online store. Together with the marketing department, you have prepared a list of hypotheses to increase revenue.\n",
    "Prioritize the hypotheses, run an A/B test, and analyze the results."
   ]
  },
  {
   "cell_type": "markdown",
   "id": "2095e1e3",
   "metadata": {},
   "source": [
    "## Part 1. Prioritizing Hypotheses\n",
    "\n",
    "The file /datasets/hypothesis.csv contains 9 hypotheses for increasing the revenue of an online store, with the specified parameters Reach, Impact, Confidence, and Effort.\n",
    "\n",
    "File /datasets/hypothesis.csv:\n",
    "\n",
    "Hypothesis — brief description of the hypothesis\n",
    "Reach — reach of users on a 10-point scale\n",
    "Impact — impact on users on a 10-point scale\n",
    "Confidence — confidence in the hypothesis on a 10-point scale\n",
    "Efforts — resource costs for testing the hypothesis on a 10-point scale. The higher the Efforts value, the more expensive it is to test the hypothesis."
   ]
  },
  {
   "cell_type": "code",
   "execution_count": 1,
   "id": "2a0fc782",
   "metadata": {},
   "outputs": [],
   "source": [
    "import pandas as pd\n",
    "import scipy.stats as stats\n",
    "import datetime as dt"
   ]
  },
  {
   "cell_type": "code",
   "execution_count": 2,
   "id": "2458e155",
   "metadata": {},
   "outputs": [],
   "source": [
    "pd.set_option('display.max_colwidth', False)"
   ]
  },
  {
   "cell_type": "code",
   "execution_count": 3,
   "id": "53f63423",
   "metadata": {},
   "outputs": [
    {
     "data": {
      "text/html": [
       "<div>\n",
       "<style scoped>\n",
       "    .dataframe tbody tr th:only-of-type {\n",
       "        vertical-align: middle;\n",
       "    }\n",
       "\n",
       "    .dataframe tbody tr th {\n",
       "        vertical-align: top;\n",
       "    }\n",
       "\n",
       "    .dataframe thead th {\n",
       "        text-align: right;\n",
       "    }\n",
       "</style>\n",
       "<table border=\"1\" class=\"dataframe\">\n",
       "  <thead>\n",
       "    <tr style=\"text-align: right;\">\n",
       "      <th></th>\n",
       "      <th>Hypothesis</th>\n",
       "      <th>Reach</th>\n",
       "      <th>Impact</th>\n",
       "      <th>Confidence</th>\n",
       "      <th>Efforts</th>\n",
       "    </tr>\n",
       "  </thead>\n",
       "  <tbody>\n",
       "    <tr>\n",
       "      <th>0</th>\n",
       "      <td>Добавить два новых канала привлечения трафика, что позволит привлекать на 30% больше пользователей</td>\n",
       "      <td>3</td>\n",
       "      <td>10</td>\n",
       "      <td>8</td>\n",
       "      <td>6</td>\n",
       "    </tr>\n",
       "    <tr>\n",
       "      <th>1</th>\n",
       "      <td>Запустить собственную службу доставки, что сократит срок доставки заказов</td>\n",
       "      <td>2</td>\n",
       "      <td>5</td>\n",
       "      <td>4</td>\n",
       "      <td>10</td>\n",
       "    </tr>\n",
       "    <tr>\n",
       "      <th>2</th>\n",
       "      <td>Добавить блоки рекомендаций товаров на сайт интернет магазина, чтобы повысить конверсию и средний чек заказа</td>\n",
       "      <td>8</td>\n",
       "      <td>3</td>\n",
       "      <td>7</td>\n",
       "      <td>3</td>\n",
       "    </tr>\n",
       "    <tr>\n",
       "      <th>3</th>\n",
       "      <td>Изменить структура категорий, что увеличит конверсию, т.к. пользователи быстрее найдут нужный товар</td>\n",
       "      <td>8</td>\n",
       "      <td>3</td>\n",
       "      <td>3</td>\n",
       "      <td>8</td>\n",
       "    </tr>\n",
       "    <tr>\n",
       "      <th>4</th>\n",
       "      <td>Изменить цвет фона главной страницы, чтобы увеличить вовлеченность пользователей</td>\n",
       "      <td>3</td>\n",
       "      <td>1</td>\n",
       "      <td>1</td>\n",
       "      <td>1</td>\n",
       "    </tr>\n",
       "    <tr>\n",
       "      <th>5</th>\n",
       "      <td>Добавить страницу отзывов клиентов о магазине, что позволит увеличить количество заказов</td>\n",
       "      <td>3</td>\n",
       "      <td>2</td>\n",
       "      <td>2</td>\n",
       "      <td>3</td>\n",
       "    </tr>\n",
       "    <tr>\n",
       "      <th>6</th>\n",
       "      <td>Показать на главной странице баннеры с актуальными акциями и распродажами, чтобы увеличить конверсию</td>\n",
       "      <td>5</td>\n",
       "      <td>3</td>\n",
       "      <td>8</td>\n",
       "      <td>3</td>\n",
       "    </tr>\n",
       "    <tr>\n",
       "      <th>7</th>\n",
       "      <td>Добавить форму подписки на все основные страницы, чтобы собрать базу клиентов для email-рассылок</td>\n",
       "      <td>10</td>\n",
       "      <td>7</td>\n",
       "      <td>8</td>\n",
       "      <td>5</td>\n",
       "    </tr>\n",
       "    <tr>\n",
       "      <th>8</th>\n",
       "      <td>Запустить акцию, дающую скидку на товар в день рождения</td>\n",
       "      <td>1</td>\n",
       "      <td>9</td>\n",
       "      <td>9</td>\n",
       "      <td>5</td>\n",
       "    </tr>\n",
       "  </tbody>\n",
       "</table>\n",
       "</div>"
      ],
      "text/plain": [
       "                                                                                                     Hypothesis  \\\n",
       "0  Добавить два новых канала привлечения трафика, что позволит привлекать на 30% больше пользователей             \n",
       "1  Запустить собственную службу доставки, что сократит срок доставки заказов                                      \n",
       "2  Добавить блоки рекомендаций товаров на сайт интернет магазина, чтобы повысить конверсию и средний чек заказа   \n",
       "3  Изменить структура категорий, что увеличит конверсию, т.к. пользователи быстрее найдут нужный товар            \n",
       "4  Изменить цвет фона главной страницы, чтобы увеличить вовлеченность пользователей                               \n",
       "5  Добавить страницу отзывов клиентов о магазине, что позволит увеличить количество заказов                       \n",
       "6  Показать на главной странице баннеры с актуальными акциями и распродажами, чтобы увеличить конверсию           \n",
       "7  Добавить форму подписки на все основные страницы, чтобы собрать базу клиентов для email-рассылок               \n",
       "8  Запустить акцию, дающую скидку на товар в день рождения                                                        \n",
       "\n",
       "   Reach  Impact  Confidence  Efforts  \n",
       "0  3      10      8           6        \n",
       "1  2      5       4           10       \n",
       "2  8      3       7           3        \n",
       "3  8      3       3           8        \n",
       "4  3      1       1           1        \n",
       "5  3      2       2           3        \n",
       "6  5      3       8           3        \n",
       "7  10     7       8           5        \n",
       "8  1      9       9           5        "
      ]
     },
     "execution_count": 3,
     "metadata": {},
     "output_type": "execute_result"
    }
   ],
   "source": [
    "hip= pd.read_csv('hypothesis.csv')\n",
    "\n",
    "hip"
   ]
  },
  {
   "cell_type": "code",
   "execution_count": 4,
   "id": "25586a39",
   "metadata": {
    "scrolled": true
   },
   "outputs": [
    {
     "data": {
      "text/html": [
       "<div>\n",
       "<style scoped>\n",
       "    .dataframe tbody tr th:only-of-type {\n",
       "        vertical-align: middle;\n",
       "    }\n",
       "\n",
       "    .dataframe tbody tr th {\n",
       "        vertical-align: top;\n",
       "    }\n",
       "\n",
       "    .dataframe thead th {\n",
       "        text-align: right;\n",
       "    }\n",
       "</style>\n",
       "<table border=\"1\" class=\"dataframe\">\n",
       "  <thead>\n",
       "    <tr style=\"text-align: right;\">\n",
       "      <th></th>\n",
       "      <th>Hypothesis</th>\n",
       "      <th>ICE</th>\n",
       "    </tr>\n",
       "  </thead>\n",
       "  <tbody>\n",
       "    <tr>\n",
       "      <th>8</th>\n",
       "      <td>Запустить акцию, дающую скидку на товар в день рождения</td>\n",
       "      <td>16.20</td>\n",
       "    </tr>\n",
       "    <tr>\n",
       "      <th>0</th>\n",
       "      <td>Добавить два новых канала привлечения трафика, что позволит привлекать на 30% больше пользователей</td>\n",
       "      <td>13.33</td>\n",
       "    </tr>\n",
       "    <tr>\n",
       "      <th>7</th>\n",
       "      <td>Добавить форму подписки на все основные страницы, чтобы собрать базу клиентов для email-рассылок</td>\n",
       "      <td>11.20</td>\n",
       "    </tr>\n",
       "    <tr>\n",
       "      <th>6</th>\n",
       "      <td>Показать на главной странице баннеры с актуальными акциями и распродажами, чтобы увеличить конверсию</td>\n",
       "      <td>8.00</td>\n",
       "    </tr>\n",
       "    <tr>\n",
       "      <th>2</th>\n",
       "      <td>Добавить блоки рекомендаций товаров на сайт интернет магазина, чтобы повысить конверсию и средний чек заказа</td>\n",
       "      <td>7.00</td>\n",
       "    </tr>\n",
       "    <tr>\n",
       "      <th>1</th>\n",
       "      <td>Запустить собственную службу доставки, что сократит срок доставки заказов</td>\n",
       "      <td>2.00</td>\n",
       "    </tr>\n",
       "    <tr>\n",
       "      <th>5</th>\n",
       "      <td>Добавить страницу отзывов клиентов о магазине, что позволит увеличить количество заказов</td>\n",
       "      <td>1.33</td>\n",
       "    </tr>\n",
       "    <tr>\n",
       "      <th>3</th>\n",
       "      <td>Изменить структура категорий, что увеличит конверсию, т.к. пользователи быстрее найдут нужный товар</td>\n",
       "      <td>1.12</td>\n",
       "    </tr>\n",
       "    <tr>\n",
       "      <th>4</th>\n",
       "      <td>Изменить цвет фона главной страницы, чтобы увеличить вовлеченность пользователей</td>\n",
       "      <td>1.00</td>\n",
       "    </tr>\n",
       "  </tbody>\n",
       "</table>\n",
       "</div>"
      ],
      "text/plain": [
       "                                                                                                     Hypothesis  \\\n",
       "8  Запустить акцию, дающую скидку на товар в день рождения                                                        \n",
       "0  Добавить два новых канала привлечения трафика, что позволит привлекать на 30% больше пользователей             \n",
       "7  Добавить форму подписки на все основные страницы, чтобы собрать базу клиентов для email-рассылок               \n",
       "6  Показать на главной странице баннеры с актуальными акциями и распродажами, чтобы увеличить конверсию           \n",
       "2  Добавить блоки рекомендаций товаров на сайт интернет магазина, чтобы повысить конверсию и средний чек заказа   \n",
       "1  Запустить собственную службу доставки, что сократит срок доставки заказов                                      \n",
       "5  Добавить страницу отзывов клиентов о магазине, что позволит увеличить количество заказов                       \n",
       "3  Изменить структура категорий, что увеличит конверсию, т.к. пользователи быстрее найдут нужный товар            \n",
       "4  Изменить цвет фона главной страницы, чтобы увеличить вовлеченность пользователей                               \n",
       "\n",
       "     ICE  \n",
       "8  16.20  \n",
       "0  13.33  \n",
       "7  11.20  \n",
       "6  8.00   \n",
       "2  7.00   \n",
       "1  2.00   \n",
       "5  1.33   \n",
       "3  1.12   \n",
       "4  1.00   "
      ]
     },
     "execution_count": 4,
     "metadata": {},
     "output_type": "execute_result"
    }
   ],
   "source": [
    "### Apply the ICE framework to prioritize the hypotheses. Sort them in descending order of priority.\n",
    "\n",
    "hip['ICE']=round(((hip['Impact']*hip['Confidence'])/hip['Efforts']), 2)\n",
    "\n",
    "hip[['Hypothesis','ICE']].sort_values(by='ICE', ascending=False)"
   ]
  },
  {
   "cell_type": "code",
   "execution_count": 5,
   "id": "d1429380",
   "metadata": {},
   "outputs": [
    {
     "name": "stdout",
     "output_type": "stream",
     "text": [
      "                                                                                                     Hypothesis  \\\n",
      "7  Добавить форму подписки на все основные страницы, чтобы собрать базу клиентов для email-рассылок               \n",
      "2  Добавить блоки рекомендаций товаров на сайт интернет магазина, чтобы повысить конверсию и средний чек заказа   \n",
      "0  Добавить два новых канала привлечения трафика, что позволит привлекать на 30% больше пользователей             \n",
      "6  Показать на главной странице баннеры с актуальными акциями и распродажами, чтобы увеличить конверсию           \n",
      "8  Запустить акцию, дающую скидку на товар в день рождения                                                        \n",
      "3  Изменить структура категорий, что увеличит конверсию, т.к. пользователи быстрее найдут нужный товар            \n",
      "1  Запустить собственную службу доставки, что сократит срок доставки заказов                                      \n",
      "5  Добавить страницу отзывов клиентов о магазине, что позволит увеличить количество заказов                       \n",
      "4  Изменить цвет фона главной страницы, чтобы увеличить вовлеченность пользователей                               \n",
      "\n",
      "    RICE  \n",
      "7  112.0  \n",
      "2  56.0   \n",
      "0  40.0   \n",
      "6  40.0   \n",
      "8  16.2   \n",
      "3  9.0    \n",
      "1  4.0    \n",
      "5  4.0    \n",
      "4  3.0    \n"
     ]
    }
   ],
   "source": [
    "### Apply the RICE framework to prioritize the hypotheses. Sort them in descending order of priority.\n",
    "\n",
    "hip['RICE']= (hip['Reach']*hip['Impact']*hip['Confidence'])/hip['Efforts']\n",
    "print(hip[['Hypothesis','RICE']].sort_values(by='RICE', ascending=False))"
   ]
  },
  {
   "cell_type": "markdown",
   "id": "1ef47611",
   "metadata": {},
   "source": [
    "### Indicate how the prioritization of hypotheses changed when applying RICE instead of ICE. Explain why this happened.\n",
    "\n",
    "- ICE (от англ. impact, confidence, effort / ease «влияние, уверенность, усилия / простота») \n",
    "- RICE (R от англ. reach, «охват»)\n",
    "\n",
    "Reach — how many users will be affected by the change you want to implement;\n",
    "Impact — how significantly the change will affect users, their experience, and satisfaction with the product;\n",
    "Confidence — how confident you are that this change will impact users as expected;\n",
    "Efforts — how much it costs to test this hypothesis."
   ]
  },
  {
   "cell_type": "markdown",
   "id": "9cc644bb",
   "metadata": {},
   "source": [
    "The RICE metric differs from the ICE metric by an additional component - Reach. Reach measures the audience coverage in points. Therefore, in the RICE parameter, hypotheses with 10 points in the Reach column - audience coverage - came to the top positions. Moreover, RICE is opposite to Impact. The greater the audience coverage (Reach), the lesser the influence (Impact).\n",
    "\n",
    "That is, in the ICE parameter, the first place belongs to hypotheses with a small audience coverage but a strong influence on customers:\n",
    "1st place: Launch a promotion that gives a discount on the product for a day - few people will see this announcement in a day, but those who do will buy it - this will sharply increase income in the short term.\n",
    "\n",
    "In the RICE parameter, audience coverage is considered - even with a small influence:\n",
    "1st place: Add a subscription form to all main pages - large audience coverage - but this will have little effect on purchasing power. This is for the long-term perspective.\n"
   ]
  },
  {
   "cell_type": "markdown",
   "id": "1aa41cae",
   "metadata": {},
   "source": [
    "### Part 2. Analysis of A/B Test\n",
    "\n",
    "You conducted an A/B test and obtained results described in the files /datasets/orders.csv and /datasets/visitors.csv.\n",
    "\n",
    "Analyze the A/B test:\n",
    "\n",
    "Data for the second part:\n",
    "\n",
    "File /datasets/orders.csv:\n",
    "\n",
    "transactionId — order identifier;\n",
    "visitorId — identifier of the user who made the order;\n",
    "date — date when the order was made;\n",
    "revenue — order revenue;\n",
    "group — A/B test group the order belongs to.\n",
    "File /datasets/visitors.csv:\n",
    "\n",
    "date — date;\n",
    "group — A/B test group;\n",
    "visitors — number of users on the specified date in the specified A/B test group."
   ]
  },
  {
   "cell_type": "code",
   "execution_count": 6,
   "id": "de414aab",
   "metadata": {},
   "outputs": [
    {
     "data": {
      "text/html": [
       "<div>\n",
       "<style scoped>\n",
       "    .dataframe tbody tr th:only-of-type {\n",
       "        vertical-align: middle;\n",
       "    }\n",
       "\n",
       "    .dataframe tbody tr th {\n",
       "        vertical-align: top;\n",
       "    }\n",
       "\n",
       "    .dataframe thead th {\n",
       "        text-align: right;\n",
       "    }\n",
       "</style>\n",
       "<table border=\"1\" class=\"dataframe\">\n",
       "  <thead>\n",
       "    <tr style=\"text-align: right;\">\n",
       "      <th></th>\n",
       "      <th>transactionId</th>\n",
       "      <th>visitorId</th>\n",
       "      <th>date</th>\n",
       "      <th>revenue</th>\n",
       "      <th>group</th>\n",
       "    </tr>\n",
       "  </thead>\n",
       "  <tbody>\n",
       "    <tr>\n",
       "      <th>0</th>\n",
       "      <td>3667963787</td>\n",
       "      <td>3312258926</td>\n",
       "      <td>2019-08-15</td>\n",
       "      <td>1650</td>\n",
       "      <td>B</td>\n",
       "    </tr>\n",
       "    <tr>\n",
       "      <th>1</th>\n",
       "      <td>2804400009</td>\n",
       "      <td>3642806036</td>\n",
       "      <td>2019-08-15</td>\n",
       "      <td>730</td>\n",
       "      <td>B</td>\n",
       "    </tr>\n",
       "    <tr>\n",
       "      <th>2</th>\n",
       "      <td>2961555356</td>\n",
       "      <td>4069496402</td>\n",
       "      <td>2019-08-15</td>\n",
       "      <td>400</td>\n",
       "      <td>A</td>\n",
       "    </tr>\n",
       "  </tbody>\n",
       "</table>\n",
       "</div>"
      ],
      "text/plain": [
       "   transactionId   visitorId        date  revenue group\n",
       "0  3667963787     3312258926  2019-08-15  1650     B   \n",
       "1  2804400009     3642806036  2019-08-15  730      B   \n",
       "2  2961555356     4069496402  2019-08-15  400      A   "
      ]
     },
     "execution_count": 6,
     "metadata": {},
     "output_type": "execute_result"
    }
   ],
   "source": [
    "orders = pd.read_csv('orders.csv')\n",
    "orders.head(3)"
   ]
  },
  {
   "cell_type": "code",
   "execution_count": 7,
   "id": "e43becf7",
   "metadata": {},
   "outputs": [
    {
     "name": "stdout",
     "output_type": "stream",
     "text": [
      "<class 'pandas.core.frame.DataFrame'>\n",
      "RangeIndex: 1197 entries, 0 to 1196\n",
      "Data columns (total 5 columns):\n",
      " #   Column         Non-Null Count  Dtype \n",
      "---  ------         --------------  ----- \n",
      " 0   transactionId  1197 non-null   int64 \n",
      " 1   visitorId      1197 non-null   int64 \n",
      " 2   date           1197 non-null   object\n",
      " 3   revenue        1197 non-null   int64 \n",
      " 4   group          1197 non-null   object\n",
      "dtypes: int64(3), object(2)\n",
      "memory usage: 46.9+ KB\n"
     ]
    }
   ],
   "source": [
    "orders.info()"
   ]
  },
  {
   "cell_type": "code",
   "execution_count": 8,
   "id": "ae82c7c9",
   "metadata": {},
   "outputs": [],
   "source": [
    "orders['date'] = pd.to_datetime(orders['date'])"
   ]
  },
  {
   "cell_type": "code",
   "execution_count": 9,
   "id": "d270e489",
   "metadata": {},
   "outputs": [
    {
     "data": {
      "text/html": [
       "<div>\n",
       "<style scoped>\n",
       "    .dataframe tbody tr th:only-of-type {\n",
       "        vertical-align: middle;\n",
       "    }\n",
       "\n",
       "    .dataframe tbody tr th {\n",
       "        vertical-align: top;\n",
       "    }\n",
       "\n",
       "    .dataframe thead th {\n",
       "        text-align: right;\n",
       "    }\n",
       "</style>\n",
       "<table border=\"1\" class=\"dataframe\">\n",
       "  <thead>\n",
       "    <tr style=\"text-align: right;\">\n",
       "      <th></th>\n",
       "      <th>date</th>\n",
       "      <th>group</th>\n",
       "      <th>visitors</th>\n",
       "    </tr>\n",
       "  </thead>\n",
       "  <tbody>\n",
       "    <tr>\n",
       "      <th>0</th>\n",
       "      <td>2019-08-01</td>\n",
       "      <td>A</td>\n",
       "      <td>719</td>\n",
       "    </tr>\n",
       "    <tr>\n",
       "      <th>1</th>\n",
       "      <td>2019-08-02</td>\n",
       "      <td>A</td>\n",
       "      <td>619</td>\n",
       "    </tr>\n",
       "    <tr>\n",
       "      <th>2</th>\n",
       "      <td>2019-08-03</td>\n",
       "      <td>A</td>\n",
       "      <td>507</td>\n",
       "    </tr>\n",
       "  </tbody>\n",
       "</table>\n",
       "</div>"
      ],
      "text/plain": [
       "         date group  visitors\n",
       "0  2019-08-01  A     719     \n",
       "1  2019-08-02  A     619     \n",
       "2  2019-08-03  A     507     "
      ]
     },
     "execution_count": 9,
     "metadata": {},
     "output_type": "execute_result"
    }
   ],
   "source": [
    "visitors = pd.read_csv('visitors.csv')\n",
    "visitors.head(3)"
   ]
  },
  {
   "cell_type": "code",
   "execution_count": 10,
   "id": "85f3bdac",
   "metadata": {
    "scrolled": true
   },
   "outputs": [
    {
     "name": "stdout",
     "output_type": "stream",
     "text": [
      "<class 'pandas.core.frame.DataFrame'>\n",
      "RangeIndex: 62 entries, 0 to 61\n",
      "Data columns (total 3 columns):\n",
      " #   Column    Non-Null Count  Dtype \n",
      "---  ------    --------------  ----- \n",
      " 0   date      62 non-null     object\n",
      " 1   group     62 non-null     object\n",
      " 2   visitors  62 non-null     int64 \n",
      "dtypes: int64(1), object(2)\n",
      "memory usage: 1.6+ KB\n"
     ]
    }
   ],
   "source": [
    "visitors.info()"
   ]
  },
  {
   "cell_type": "code",
   "execution_count": 11,
   "id": "11272ff6",
   "metadata": {},
   "outputs": [],
   "source": [
    "visitors['date'] = pd.to_datetime(visitors['date'])"
   ]
  },
  {
   "cell_type": "code",
   "execution_count": 12,
   "id": "84a4b83b",
   "metadata": {},
   "outputs": [
    {
     "data": {
      "text/plain": [
       "0"
      ]
     },
     "execution_count": 12,
     "metadata": {},
     "output_type": "execute_result"
    }
   ],
   "source": [
    "## Check for duplicates\n",
    "orders.duplicated().sum()"
   ]
  },
  {
   "cell_type": "code",
   "execution_count": 13,
   "id": "12246973",
   "metadata": {},
   "outputs": [
    {
     "data": {
      "text/plain": [
       "0"
      ]
     },
     "execution_count": 13,
     "metadata": {},
     "output_type": "execute_result"
    }
   ],
   "source": [
    "visitors.duplicated().sum()"
   ]
  },
  {
   "cell_type": "code",
   "execution_count": 14,
   "id": "3ca102f7",
   "metadata": {},
   "outputs": [
    {
     "data": {
      "text/plain": [
       "date        0\n",
       "group       0\n",
       "visitors    0\n",
       "dtype: int64"
      ]
     },
     "execution_count": 14,
     "metadata": {},
     "output_type": "execute_result"
    }
   ],
   "source": [
    "## Check for missing values\n",
    "visitors.isna().sum()"
   ]
  },
  {
   "cell_type": "code",
   "execution_count": 15,
   "id": "23f21146",
   "metadata": {},
   "outputs": [
    {
     "data": {
      "text/plain": [
       "transactionId    0\n",
       "visitorId        0\n",
       "date             0\n",
       "revenue          0\n",
       "group            0\n",
       "dtype: int64"
      ]
     },
     "execution_count": 15,
     "metadata": {},
     "output_type": "execute_result"
    }
   ],
   "source": [
    "orders.isna().sum()"
   ]
  },
  {
   "cell_type": "code",
   "execution_count": 16,
   "id": "13ea3515",
   "metadata": {},
   "outputs": [
    {
     "data": {
      "text/html": [
       "<div>\n",
       "<style scoped>\n",
       "    .dataframe tbody tr th:only-of-type {\n",
       "        vertical-align: middle;\n",
       "    }\n",
       "\n",
       "    .dataframe tbody tr th {\n",
       "        vertical-align: top;\n",
       "    }\n",
       "\n",
       "    .dataframe thead th {\n",
       "        text-align: right;\n",
       "    }\n",
       "</style>\n",
       "<table border=\"1\" class=\"dataframe\">\n",
       "  <thead>\n",
       "    <tr style=\"text-align: right;\">\n",
       "      <th></th>\n",
       "      <th>transactionId</th>\n",
       "      <th>visitorId</th>\n",
       "      <th>date</th>\n",
       "      <th>revenue</th>\n",
       "    </tr>\n",
       "    <tr>\n",
       "      <th>group</th>\n",
       "      <th></th>\n",
       "      <th></th>\n",
       "      <th></th>\n",
       "      <th></th>\n",
       "    </tr>\n",
       "  </thead>\n",
       "  <tbody>\n",
       "    <tr>\n",
       "      <th>A</th>\n",
       "      <td>557</td>\n",
       "      <td>557</td>\n",
       "      <td>557</td>\n",
       "      <td>557</td>\n",
       "    </tr>\n",
       "    <tr>\n",
       "      <th>B</th>\n",
       "      <td>640</td>\n",
       "      <td>640</td>\n",
       "      <td>640</td>\n",
       "      <td>640</td>\n",
       "    </tr>\n",
       "  </tbody>\n",
       "</table>\n",
       "</div>"
      ],
      "text/plain": [
       "       transactionId  visitorId  date  revenue\n",
       "group                                         \n",
       "A      557            557        557   557    \n",
       "B      640            640        640   640    "
      ]
     },
     "execution_count": 16,
     "metadata": {},
     "output_type": "execute_result"
    }
   ],
   "source": [
    "## Grouped the data by group and counted the quantities in each column.\n",
    "\n",
    "orders.groupby('group').count()"
   ]
  },
  {
   "cell_type": "code",
   "execution_count": 17,
   "id": "6f4cf720",
   "metadata": {},
   "outputs": [
    {
     "data": {
      "text/html": [
       "<div>\n",
       "<style scoped>\n",
       "    .dataframe tbody tr th:only-of-type {\n",
       "        vertical-align: middle;\n",
       "    }\n",
       "\n",
       "    .dataframe tbody tr th {\n",
       "        vertical-align: top;\n",
       "    }\n",
       "\n",
       "    .dataframe thead th {\n",
       "        text-align: right;\n",
       "    }\n",
       "</style>\n",
       "<table border=\"1\" class=\"dataframe\">\n",
       "  <thead>\n",
       "    <tr style=\"text-align: right;\">\n",
       "      <th></th>\n",
       "      <th>transactionId</th>\n",
       "      <th>visitorId</th>\n",
       "      <th>date</th>\n",
       "      <th>revenue</th>\n",
       "    </tr>\n",
       "    <tr>\n",
       "      <th>group</th>\n",
       "      <th></th>\n",
       "      <th></th>\n",
       "      <th></th>\n",
       "      <th></th>\n",
       "    </tr>\n",
       "  </thead>\n",
       "  <tbody>\n",
       "    <tr>\n",
       "      <th>A</th>\n",
       "      <td>557</td>\n",
       "      <td>503</td>\n",
       "      <td>31</td>\n",
       "      <td>419</td>\n",
       "    </tr>\n",
       "    <tr>\n",
       "      <th>B</th>\n",
       "      <td>640</td>\n",
       "      <td>586</td>\n",
       "      <td>31</td>\n",
       "      <td>450</td>\n",
       "    </tr>\n",
       "  </tbody>\n",
       "</table>\n",
       "</div>"
      ],
      "text/plain": [
       "       transactionId  visitorId  date  revenue\n",
       "group                                         \n",
       "A      557            503        31    419    \n",
       "B      640            586        31    450    "
      ]
     },
     "execution_count": 17,
     "metadata": {},
     "output_type": "execute_result"
    }
   ],
   "source": [
    "## The nunique() method - the count of unique data shows that there are customers who are in both group A and group B.\n",
    "\n",
    "orders.groupby('group').nunique()"
   ]
  },
  {
   "cell_type": "code",
   "execution_count": 18,
   "id": "197b8329",
   "metadata": {},
   "outputs": [
    {
     "data": {
      "text/html": [
       "<div>\n",
       "<style scoped>\n",
       "    .dataframe tbody tr th:only-of-type {\n",
       "        vertical-align: middle;\n",
       "    }\n",
       "\n",
       "    .dataframe tbody tr th {\n",
       "        vertical-align: top;\n",
       "    }\n",
       "\n",
       "    .dataframe thead th {\n",
       "        text-align: right;\n",
       "    }\n",
       "</style>\n",
       "<table border=\"1\" class=\"dataframe\">\n",
       "  <thead>\n",
       "    <tr style=\"text-align: right;\">\n",
       "      <th></th>\n",
       "      <th>date</th>\n",
       "      <th>visitors</th>\n",
       "    </tr>\n",
       "    <tr>\n",
       "      <th>group</th>\n",
       "      <th></th>\n",
       "      <th></th>\n",
       "    </tr>\n",
       "  </thead>\n",
       "  <tbody>\n",
       "    <tr>\n",
       "      <th>A</th>\n",
       "      <td>31</td>\n",
       "      <td>31</td>\n",
       "    </tr>\n",
       "    <tr>\n",
       "      <th>B</th>\n",
       "      <td>31</td>\n",
       "      <td>31</td>\n",
       "    </tr>\n",
       "  </tbody>\n",
       "</table>\n",
       "</div>"
      ],
      "text/plain": [
       "       date  visitors\n",
       "group                \n",
       "A      31    31      \n",
       "B      31    31      "
      ]
     },
     "execution_count": 18,
     "metadata": {},
     "output_type": "execute_result"
    }
   ],
   "source": [
    "visitors.groupby('group').count()"
   ]
  },
  {
   "cell_type": "code",
   "execution_count": 19,
   "id": "3fc587a5",
   "metadata": {},
   "outputs": [
    {
     "data": {
      "text/html": [
       "<div>\n",
       "<style scoped>\n",
       "    .dataframe tbody tr th:only-of-type {\n",
       "        vertical-align: middle;\n",
       "    }\n",
       "\n",
       "    .dataframe tbody tr th {\n",
       "        vertical-align: top;\n",
       "    }\n",
       "\n",
       "    .dataframe thead th {\n",
       "        text-align: right;\n",
       "    }\n",
       "</style>\n",
       "<table border=\"1\" class=\"dataframe\">\n",
       "  <thead>\n",
       "    <tr style=\"text-align: right;\">\n",
       "      <th></th>\n",
       "      <th>date</th>\n",
       "      <th>visitors</th>\n",
       "    </tr>\n",
       "    <tr>\n",
       "      <th>group</th>\n",
       "      <th></th>\n",
       "      <th></th>\n",
       "    </tr>\n",
       "  </thead>\n",
       "  <tbody>\n",
       "    <tr>\n",
       "      <th>A</th>\n",
       "      <td>31</td>\n",
       "      <td>31</td>\n",
       "    </tr>\n",
       "    <tr>\n",
       "      <th>B</th>\n",
       "      <td>31</td>\n",
       "      <td>30</td>\n",
       "    </tr>\n",
       "  </tbody>\n",
       "</table>\n",
       "</div>"
      ],
      "text/plain": [
       "       date  visitors\n",
       "group                \n",
       "A      31    31      \n",
       "B      31    30      "
      ]
     },
     "execution_count": 19,
     "metadata": {},
     "output_type": "execute_result"
    }
   ],
   "source": [
    "visitors.groupby('group').nunique()"
   ]
  },
  {
   "cell_type": "markdown",
   "id": "83fb34e1",
   "metadata": {},
   "source": [
    "## 1. Plot the cumulative revenue by groups. Make conclusions and assumptions.\n",
    "\n",
    "To plot the graphs, we need to gather cumulative data. Let's create a DataFrame cumulativeData with the following columns:\n",
    "\n",
    "date — date;\n",
    "group — A/B test group (A or B);\n",
    "transaction_cum — cumulative number of orders on the specified date in the specified group; (*transactionId)\n",
    "visitorId_cum — cumulative number of users who made at least one order on the specified date in the specified group; (*visitorId)\n",
    "revenue_cum — cumulative revenue on the specified date in the specified group (average check);\n",
    "visitors_cum — cumulative number of visitors to the online store on the specified date in the specified group. (*visitors)"
   ]
  },
  {
   "cell_type": "code",
   "execution_count": 20,
   "id": "484c888e",
   "metadata": {},
   "outputs": [
    {
     "data": {
      "text/html": [
       "<div>\n",
       "<style scoped>\n",
       "    .dataframe tbody tr th:only-of-type {\n",
       "        vertical-align: middle;\n",
       "    }\n",
       "\n",
       "    .dataframe tbody tr th {\n",
       "        vertical-align: top;\n",
       "    }\n",
       "\n",
       "    .dataframe thead th {\n",
       "        text-align: right;\n",
       "    }\n",
       "</style>\n",
       "<table border=\"1\" class=\"dataframe\">\n",
       "  <thead>\n",
       "    <tr style=\"text-align: right;\">\n",
       "      <th></th>\n",
       "      <th>date</th>\n",
       "      <th>group</th>\n",
       "    </tr>\n",
       "  </thead>\n",
       "  <tbody>\n",
       "    <tr>\n",
       "      <th>0</th>\n",
       "      <td>2019-08-15</td>\n",
       "      <td>B</td>\n",
       "    </tr>\n",
       "    <tr>\n",
       "      <th>2</th>\n",
       "      <td>2019-08-15</td>\n",
       "      <td>A</td>\n",
       "    </tr>\n",
       "    <tr>\n",
       "      <th>45</th>\n",
       "      <td>2019-08-16</td>\n",
       "      <td>A</td>\n",
       "    </tr>\n",
       "  </tbody>\n",
       "</table>\n",
       "</div>"
      ],
      "text/plain": [
       "         date group\n",
       "0  2019-08-15  B   \n",
       "2  2019-08-15  A   \n",
       "45 2019-08-16  A   "
      ]
     },
     "execution_count": 20,
     "metadata": {},
     "output_type": "execute_result"
    }
   ],
   "source": [
    "# 1. create an array of unique pairs of test date and group values\n",
    "\n",
    "datesGroups = orders[['date','group']].drop_duplicates() \n",
    "datesGroups.head(3)"
   ]
  },
  {
   "cell_type": "code",
   "execution_count": 21,
   "id": "5e73340f",
   "metadata": {
    "scrolled": false
   },
   "outputs": [
    {
     "data": {
      "text/html": [
       "<div>\n",
       "<style scoped>\n",
       "    .dataframe tbody tr th:only-of-type {\n",
       "        vertical-align: middle;\n",
       "    }\n",
       "\n",
       "    .dataframe tbody tr th {\n",
       "        vertical-align: top;\n",
       "    }\n",
       "\n",
       "    .dataframe thead th {\n",
       "        text-align: right;\n",
       "    }\n",
       "</style>\n",
       "<table border=\"1\" class=\"dataframe\">\n",
       "  <thead>\n",
       "    <tr style=\"text-align: right;\">\n",
       "      <th></th>\n",
       "      <th>date</th>\n",
       "      <th>group</th>\n",
       "      <th>transactionId</th>\n",
       "      <th>visitorId</th>\n",
       "      <th>revenue</th>\n",
       "    </tr>\n",
       "  </thead>\n",
       "  <tbody>\n",
       "    <tr>\n",
       "      <th>55</th>\n",
       "      <td>2019-08-01</td>\n",
       "      <td>A</td>\n",
       "      <td>24</td>\n",
       "      <td>20</td>\n",
       "      <td>148579</td>\n",
       "    </tr>\n",
       "    <tr>\n",
       "      <th>66</th>\n",
       "      <td>2019-08-01</td>\n",
       "      <td>B</td>\n",
       "      <td>21</td>\n",
       "      <td>20</td>\n",
       "      <td>101217</td>\n",
       "    </tr>\n",
       "    <tr>\n",
       "      <th>175</th>\n",
       "      <td>2019-08-02</td>\n",
       "      <td>A</td>\n",
       "      <td>44</td>\n",
       "      <td>38</td>\n",
       "      <td>242401</td>\n",
       "    </tr>\n",
       "    <tr>\n",
       "      <th>173</th>\n",
       "      <td>2019-08-02</td>\n",
       "      <td>B</td>\n",
       "      <td>45</td>\n",
       "      <td>43</td>\n",
       "      <td>266748</td>\n",
       "    </tr>\n",
       "    <tr>\n",
       "      <th>291</th>\n",
       "      <td>2019-08-03</td>\n",
       "      <td>A</td>\n",
       "      <td>68</td>\n",
       "      <td>62</td>\n",
       "      <td>354874</td>\n",
       "    </tr>\n",
       "  </tbody>\n",
       "</table>\n",
       "</div>"
      ],
      "text/plain": [
       "          date group  transactionId  visitorId  revenue\n",
       "55  2019-08-01  A     24             20         148579 \n",
       "66  2019-08-01  B     21             20         101217 \n",
       "175 2019-08-02  A     44             38         242401 \n",
       "173 2019-08-02  B     45             43         266748 \n",
       "291 2019-08-03  A     68             62         354874 "
      ]
     },
     "execution_count": 21,
     "metadata": {},
     "output_type": "execute_result"
    }
   ],
   "source": [
    "# 2. Get the rows from the orders table where the date is less than or equal to the date of the element from datesGroups,\n",
    "# and the test group is equal to the group from datesGroups. This will be the aggregated cumulative data on orders.\n",
    "\n",
    "import numpy as np\n",
    "\n",
    "ordersAggregated = datesGroups.apply(lambda x: orders[np.logical_and(orders['date'] <= x['date'], orders['group'] == x['group'])]\\\n",
    ".agg({'date' : 'max', 'group' : 'max', 'transactionId' : 'nunique', 'visitorId' : 'nunique', 'revenue' : 'sum'}), axis=1)\\\n",
    ".sort_values(by=['date','group'])\n",
    "\n",
    "### print selected rows from the orders table\n",
    "ordersAggregated.head(5)\n"
   ]
  },
  {
   "cell_type": "code",
   "execution_count": 22,
   "id": "1ed26fae",
   "metadata": {},
   "outputs": [
    {
     "data": {
      "text/html": [
       "<div>\n",
       "<style scoped>\n",
       "    .dataframe tbody tr th:only-of-type {\n",
       "        vertical-align: middle;\n",
       "    }\n",
       "\n",
       "    .dataframe tbody tr th {\n",
       "        vertical-align: top;\n",
       "    }\n",
       "\n",
       "    .dataframe thead th {\n",
       "        text-align: right;\n",
       "    }\n",
       "</style>\n",
       "<table border=\"1\" class=\"dataframe\">\n",
       "  <thead>\n",
       "    <tr style=\"text-align: right;\">\n",
       "      <th></th>\n",
       "      <th>date</th>\n",
       "      <th>group</th>\n",
       "      <th>visitors</th>\n",
       "    </tr>\n",
       "  </thead>\n",
       "  <tbody>\n",
       "    <tr>\n",
       "      <th>55</th>\n",
       "      <td>2019-08-01</td>\n",
       "      <td>A</td>\n",
       "      <td>719</td>\n",
       "    </tr>\n",
       "    <tr>\n",
       "      <th>66</th>\n",
       "      <td>2019-08-01</td>\n",
       "      <td>B</td>\n",
       "      <td>713</td>\n",
       "    </tr>\n",
       "    <tr>\n",
       "      <th>175</th>\n",
       "      <td>2019-08-02</td>\n",
       "      <td>A</td>\n",
       "      <td>1338</td>\n",
       "    </tr>\n",
       "    <tr>\n",
       "      <th>173</th>\n",
       "      <td>2019-08-02</td>\n",
       "      <td>B</td>\n",
       "      <td>1294</td>\n",
       "    </tr>\n",
       "    <tr>\n",
       "      <th>291</th>\n",
       "      <td>2019-08-03</td>\n",
       "      <td>A</td>\n",
       "      <td>1845</td>\n",
       "    </tr>\n",
       "  </tbody>\n",
       "</table>\n",
       "</div>"
      ],
      "text/plain": [
       "          date group  visitors\n",
       "55  2019-08-01  A     719     \n",
       "66  2019-08-01  B     713     \n",
       "175 2019-08-02  A     1338    \n",
       "173 2019-08-02  B     1294    \n",
       "291 2019-08-03  A     1845    "
      ]
     },
     "execution_count": 22,
     "metadata": {},
     "output_type": "execute_result"
    }
   ],
   "source": [
    "\n",
    "# 3. Similarly, obtain aggregated cumulative daily data on the visitors of the online store.\n",
    "# These are the aggregated cumulative DATA on the VISITORS of the online store.\n",
    "\n",
    "visitorsAggregated = datesGroups.apply(lambda x: visitors[np.logical_and(visitors['date'] <= x['date'], visitors['group'] == x['group'])].agg({'date' : 'max', 'group' : 'max', 'visitors' : 'sum'}), axis=1)\\\n",
    ".sort_values(by=['date','group'])\n",
    "\n",
    "visitorsAggregated.head(5)"
   ]
  },
  {
   "cell_type": "code",
   "execution_count": 23,
   "id": "e45603b6",
   "metadata": {},
   "outputs": [
    {
     "data": {
      "text/html": [
       "<div>\n",
       "<style scoped>\n",
       "    .dataframe tbody tr th:only-of-type {\n",
       "        vertical-align: middle;\n",
       "    }\n",
       "\n",
       "    .dataframe tbody tr th {\n",
       "        vertical-align: top;\n",
       "    }\n",
       "\n",
       "    .dataframe thead th {\n",
       "        text-align: right;\n",
       "    }\n",
       "</style>\n",
       "<table border=\"1\" class=\"dataframe\">\n",
       "  <thead>\n",
       "    <tr style=\"text-align: right;\">\n",
       "      <th></th>\n",
       "      <th>date</th>\n",
       "      <th>group</th>\n",
       "      <th>transaction_cum</th>\n",
       "      <th>visitorId_cum</th>\n",
       "      <th>revenue_cum</th>\n",
       "      <th>visitors_cum</th>\n",
       "    </tr>\n",
       "  </thead>\n",
       "  <tbody>\n",
       "    <tr>\n",
       "      <th>0</th>\n",
       "      <td>2019-08-01</td>\n",
       "      <td>A</td>\n",
       "      <td>24</td>\n",
       "      <td>20</td>\n",
       "      <td>148579</td>\n",
       "      <td>719</td>\n",
       "    </tr>\n",
       "    <tr>\n",
       "      <th>1</th>\n",
       "      <td>2019-08-01</td>\n",
       "      <td>B</td>\n",
       "      <td>21</td>\n",
       "      <td>20</td>\n",
       "      <td>101217</td>\n",
       "      <td>713</td>\n",
       "    </tr>\n",
       "    <tr>\n",
       "      <th>2</th>\n",
       "      <td>2019-08-02</td>\n",
       "      <td>A</td>\n",
       "      <td>44</td>\n",
       "      <td>38</td>\n",
       "      <td>242401</td>\n",
       "      <td>1338</td>\n",
       "    </tr>\n",
       "    <tr>\n",
       "      <th>3</th>\n",
       "      <td>2019-08-02</td>\n",
       "      <td>B</td>\n",
       "      <td>45</td>\n",
       "      <td>43</td>\n",
       "      <td>266748</td>\n",
       "      <td>1294</td>\n",
       "    </tr>\n",
       "    <tr>\n",
       "      <th>4</th>\n",
       "      <td>2019-08-03</td>\n",
       "      <td>A</td>\n",
       "      <td>68</td>\n",
       "      <td>62</td>\n",
       "      <td>354874</td>\n",
       "      <td>1845</td>\n",
       "    </tr>\n",
       "  </tbody>\n",
       "</table>\n",
       "</div>"
      ],
      "text/plain": [
       "        date group  transaction_cum  visitorId_cum  revenue_cum  visitors_cum\n",
       "0 2019-08-01  A     24               20             148579       719         \n",
       "1 2019-08-01  B     21               20             101217       713         \n",
       "2 2019-08-02  A     44               38             242401       1338        \n",
       "3 2019-08-02  B     45               43             266748       1294        \n",
       "4 2019-08-03  A     68               62             354874       1845        "
      ]
     },
     "execution_count": 23,
     "metadata": {},
     "output_type": "execute_result"
    }
   ],
   "source": [
    "# 4. Merge both tables into one - cumulativeData: \n",
    "\n",
    "cumulativeData = ordersAggregated.merge(visitorsAggregated, left_on=['date', 'group'], right_on=['date', 'group'])\n",
    "cumulativeData.columns = ['date', 'group','transaction_cum', 'visitorId_cum','revenue_cum','visitors_cum']\n",
    "\n",
    "cumulativeData.head(5)"
   ]
  },
  {
   "cell_type": "markdown",
   "id": "3a94fb51",
   "metadata": {},
   "source": [
    "### PLOT THE GRAPHS."
   ]
  },
  {
   "cell_type": "code",
   "execution_count": 24,
   "id": "0bab648f",
   "metadata": {
    "scrolled": true
   },
   "outputs": [
    {
     "data": {
      "image/png": "[encoded data removed]",
      "text/plain": [
       "<Figure size 640x480 with 1 Axes>"
      ]
     },
     "metadata": {},
     "output_type": "display_data"
    }
   ],
   "source": [
    "# Let's plot the graphs of cumulative revenue by day and A/B test groups:\n",
    "\n",
    "import matplotlib.pyplot as plt\n",
    "import numpy as np\n",
    "\n",
    "# датафрейм с кумулятивным количеством заказов и кумулятивной выручкой по дням в группе А\n",
    "cumulativeRevenueA = cumulativeData[cumulativeData['group']=='A'][['date','revenue_cum', 'transaction_cum']]\n",
    "\n",
    "# датафрейм с кумулятивным количеством заказов и кумулятивной выручкой по дням в группе B\n",
    "cumulativeRevenueB = cumulativeData[cumulativeData['group']=='B'][['date','revenue_cum', 'transaction_cum']]\n",
    "\n",
    "\n",
    "# Строим график выручки группы А\n",
    "plt.plot(cumulativeRevenueA['date'], cumulativeRevenueA['revenue_cum'], label='A')\n",
    "\n",
    "# Строим график выручки группы B\n",
    "plt.plot(cumulativeRevenueB['date'], cumulativeRevenueB['revenue_cum'], label='B')\n",
    "\n",
    "\n",
    "## название графика \n",
    "plt.title('Cumulative revenue by day and A/B test groups')\n",
    "\n",
    "plt.legend(loc='upper left')\n",
    "plt.xlabel('date')\n",
    "plt.ylabel('revenue_cum')\n",
    "\n",
    "plt.xticks(rotation=45)# rotated the date at a 45-degree angle\n",
    "plt.show()"
   ]
  },
  {
   "cell_type": "markdown",
   "id": "08885e1e",
   "metadata": {},
   "source": [
    "Revenue increases almost evenly throughout the entire test. This is a good sign.\n",
    "However, the revenue graphs of both groups have several sharp increases at certain points. This may indicate spikes in the number of orders or the appearance of very expensive orders in the sample."
   ]
  },
  {
   "cell_type": "markdown",
   "id": "94db04f5",
   "metadata": {},
   "source": [
    "## 2.Plot the graph of the cumulative average order value by groups. Make conclusions and assumptions."
   ]
  },
  {
   "cell_type": "code",
   "execution_count": 25,
   "id": "5756566a",
   "metadata": {},
   "outputs": [
    {
     "data": {
      "image/png": "[encoded data removed]",
      "text/plain": [
       "<Figure size 640x480 with 1 Axes>"
      ]
     },
     "metadata": {},
     "output_type": "display_data"
    }
   ],
   "source": [
    "### Построим графики среднего чека по группам — разделим кумулятивную выручку на кумулятивное число заказов:\n",
    "\n",
    "plt.plot(cumulativeRevenueA['date'], cumulativeRevenueA['revenue_cum']/cumulativeRevenueA['transaction_cum'], label='A')\n",
    "\n",
    "plt.plot(cumulativeRevenueB['date'], cumulativeRevenueB['revenue_cum']/cumulativeRevenueB['transaction_cum'], label='B')\n",
    "\n",
    "## название графика \n",
    "plt.title('Average order value by A/B test groups')\n",
    "\n",
    "plt.legend(loc='upper left')\n",
    "plt.xlabel('date')\n",
    "plt.ylabel('Middle receipt')\n",
    "\n",
    "plt.xticks(rotation=45)# rotated the date at a 45-degree angle\n",
    "plt.show()"
   ]
  },
  {
   "cell_type": "markdown",
   "id": "055fc68c",
   "metadata": {},
   "source": [
    "The average order value also becomes more consistent towards the end of the test: it stabilizes for group B and continues to decline for group A. It is possible that group A received large orders in the first half of the test (a sharp spike in the graph). In that case, group A needs more data to reach the true average order value and stabilize at that level."
   ]
  },
  {
   "cell_type": "markdown",
   "id": "e29eb1e1",
   "metadata": {},
   "source": [
    "## 3. Plot the graph of the relative change in the cumulative average order value of group B compared to group A. Make conclusions and assumptions."
   ]
  },
  {
   "cell_type": "code",
   "execution_count": 26,
   "id": "86099042",
   "metadata": {},
   "outputs": [
    {
     "data": {
      "image/png": "[encoded data removed]",
      "text/plain": [
       "<Figure size 640x480 with 1 Axes>"
      ]
     },
     "metadata": {},
     "output_type": "display_data"
    }
   ],
   "source": [
    "### Add a horizontal axis using the axhline() method (from the English \"horizontal line across the axis\"):\n",
    "# collect the data in one DataFrame\n",
    "\n",
    "mergedCumulativeRevenue = cumulativeRevenueA.merge(cumulativeRevenueB, left_on='date', right_on='date', how='left', suffixes=['A', 'B'])\n",
    "\n",
    "# cтроим отношение средних чеков\n",
    "plt.plot(mergedCumulativeRevenue['date'], (mergedCumulativeRevenue['revenue_cumB']/mergedCumulativeRevenue['transaction_cumB'])/(mergedCumulativeRevenue['revenue_cumA']/mergedCumulativeRevenue['transaction_cumA'])-1)\n",
    "\n",
    "# добавляем ось X\n",
    "plt.axhline(y=0, color='black', linestyle='--')\n",
    "\n",
    "## название графика \n",
    "plt.title('Относительное изменение кумулятивного среднего чека')\n",
    "\n",
    "\n",
    "plt.ylabel('Middle receipt B/Middle receipt B')\n",
    "plt.xlabel('date')\n",
    "\n",
    "plt.xticks(rotation=45)# повернули дату под углом 45 градусов\n",
    "plt.show()"
   ]
  },
  {
   "cell_type": "markdown",
   "id": "78ee8245",
   "metadata": {},
   "source": [
    "At several points, the graph of the difference between the segments fluctuates sharply. There are definitely some large orders and outliers hidden somewhere!"
   ]
  },
  {
   "cell_type": "markdown",
   "id": "d78aebaf",
   "metadata": {},
   "source": [
    "## 4.\tPlot the graph of the cumulative average number of orders per visitor by groups. Make conclusions and assumptions."
   ]
  },
  {
   "cell_type": "code",
   "execution_count": 27,
   "id": "b83e4dcd",
   "metadata": {},
   "outputs": [
    {
     "data": {
      "image/png": "[encoded data removed]",
      "text/plain": [
       "<Figure size 640x480 with 1 Axes>"
      ]
     },
     "metadata": {},
     "output_type": "display_data"
    }
   ],
   "source": [
    "# считаем количество заказов на 1 посетителя\n",
    "cumulativeData['conversion'] = cumulativeData['transaction_cum']/cumulativeData['visitors_cum']\n",
    "\n",
    "# отделяем данные по группе A\n",
    "cumulativeDataA = cumulativeData[cumulativeData['group']=='A']\n",
    "\n",
    "# отделяем данные по группе B\n",
    "cumulativeDataB = cumulativeData[cumulativeData['group']=='B']\n",
    "\n",
    "## название графика \n",
    "plt.title('Кумулятивное количество заказов на посетителя групп А и В')\n",
    "\n",
    "## x и y \n",
    "plt.xlabel('date')\n",
    "plt.ylabel('Заказ на посетителя')\n",
    "\n",
    "\n",
    "# строим графики\n",
    "plt.plot(cumulativeDataA['date'], cumulativeDataA['conversion'], label='A')\n",
    "plt.plot(cumulativeDataB['date'], cumulativeDataB['conversion'], label='B')\n",
    "\n",
    "\n",
    "plt.xticks(rotation=45)# повернули дату под углом 45 градусов\n",
    "\n",
    "plt.legend(loc='upper right')\n",
    "plt.show()"
   ]
  },
  {
   "cell_type": "markdown",
   "id": "0db2fcdb",
   "metadata": {},
   "source": [
    "The graph turned out to be symmetrical! The groups fluctuated around the same value, but then the number of orders in group B surged ahead and stabilized, while the number of orders in group A declined and also stabilized."
   ]
  },
  {
   "cell_type": "markdown",
   "id": "d2cd9bc7",
   "metadata": {},
   "source": [
    "## 5. Plot the graph of the relative change in the cumulative average number of orders per visitor in group B compared to group A. Make conclusions and assumptions."
   ]
  },
  {
   "cell_type": "code",
   "execution_count": 28,
   "id": "eb572b7d",
   "metadata": {},
   "outputs": [
    {
     "data": {
      "image/png": "[encoded data removed]",
      "text/plain": [
       "<Figure size 640x480 with 1 Axes>"
      ]
     },
     "metadata": {},
     "output_type": "display_data"
    }
   ],
   "source": [
    "\n",
    "mergedCumulativeConversions = cumulativeDataA[['date','conversion']]\\\n",
    ".merge(cumulativeDataB[['date','conversion']], left_on='date', right_on='date', how='left', suffixes=['A', 'B'])\n",
    "\n",
    "plt.plot(mergedCumulativeConversions['date'], mergedCumulativeConversions['conversionB']/mergedCumulativeConversions['conversionA']-1, label=\"Относительный прирост конверсии группы B относительно группы A\")\n",
    "\n",
    "\n",
    "\n",
    "plt.axhline(y=0, color='black', linestyle='--')\n",
    "plt.axhline(y=-0.1, color='grey', linestyle='--')\n",
    "\n",
    "## название графика \n",
    "plt.title('Относительного изменение кумулятивного количество заказов на посетителя группы B к группе A')\n",
    "\n",
    "## x и y \n",
    "plt.xlabel('date')\n",
    "plt.ylabel('Заказ на посетителя В к А')\n",
    "\n",
    "plt.xticks(rotation=45)# повернули дату под углом 45 градусов\n",
    "\n",
    "\n",
    "plt.show()"
   ]
  },
  {
   "cell_type": "markdown",
   "id": "a04be6de",
   "metadata": {},
   "source": [
    "\n",
    "At the beginning of the test, group A significantly outperformed group B, then group B surged ahead. After that, the number of orders dropped again, but now it is gradually increasing.\n",
    "Overall, the ratio of group B to group A has not yet stabilized, and it is currently not possible to make any conclusions from the test. However, it is worth analyzing the anomalies first, as they might change the overall picture.\n"
   ]
  },
  {
   "cell_type": "markdown",
   "id": "85085e76",
   "metadata": {},
   "source": [
    "## 6.\tPlot a scatter plot of the number of orders per user. Make conclusions and assumptions.\n",
    "\n",
    "Файл /datasets/orders.csv. \n",
    "\n",
    "•transactionId — идентификатор заказа;\n",
    "•visitorId — идентификатор пользователя, совершившего заказ;"
   ]
  },
  {
   "cell_type": "code",
   "execution_count": 29,
   "id": "75f7a067",
   "metadata": {},
   "outputs": [
    {
     "name": "stdout",
     "output_type": "stream",
     "text": [
      "          userId  orders\n",
      "1023  4256040402  11    \n",
      "591   2458001652  11    \n",
      "569   2378935119  9     \n",
      "487   2038680547  8     \n",
      "44    199603092   5     \n"
     ]
    }
   ],
   "source": [
    "## Introduce a variable to identify unique users and\n",
    "## add the number of unique items using 'nunique':\n",
    "\n",
    "orders_2 = (\n",
    "    orders.groupby('visitorId', as_index=False)\n",
    "    .agg({'transactionId': 'nunique'})\n",
    ")\n",
    "orders_2.columns = ['userId', 'orders']\n",
    "\n",
    "print(orders_2.sort_values(by='orders', ascending=False).head(5))"
   ]
  },
  {
   "cell_type": "code",
   "execution_count": 30,
   "id": "1f72473b",
   "metadata": {},
   "outputs": [
    {
     "data": {
      "text/plain": [
       "<matplotlib.collections.PathCollection at 0x2619e4caf70>"
      ]
     },
     "execution_count": 30,
     "metadata": {},
     "output_type": "execute_result"
    },
    {
     "data": {
      "image/png": "[encoded data removed]",
      "text/plain": [
       "<Figure size 640x480 with 1 Axes>"
      ]
     },
     "metadata": {},
     "output_type": "display_data"
    }
   ],
   "source": [
    "## Let's plot a diagram using the scatter() method, passing values for the X and Y axes to it.\n",
    "\n",
    "x_values = pd.Series(range(0, len(orders_2)))\n",
    "plt.scatter(x_values, orders_2['orders']) "
   ]
  },
  {
   "cell_type": "markdown",
   "id": "ea660427",
   "metadata": {},
   "source": [
    "Users who placed more than 2 orders are very few. They may very well be outliers. Whether 2 orders are normal or a lot will be answered by calculating sample percentiles."
   ]
  },
  {
   "cell_type": "markdown",
   "id": "f3c18800",
   "metadata": {},
   "source": [
    "## 7.\tCalculate the 95th and 99th percentiles of the number of orders per user. Choose a threshold for determining anomalous users.\n",
    "\n",
    "Let's calculate the 95th and 99th sample percentiles of the number of orders per user using the np.percentile() method."
   ]
  },
  {
   "cell_type": "code",
   "execution_count": 31,
   "id": "d864cf81",
   "metadata": {},
   "outputs": [
    {
     "name": "stdout",
     "output_type": "stream",
     "text": [
      "[2. 4.]\n"
     ]
    }
   ],
   "source": [
    "## Метод np.percentile('column', [percentile1, percentile2, percentile3]) находит перцентили\n",
    "\n",
    "import numpy as np\n",
    "print(np.percentile(orders_2['orders'], [95, 99])) "
   ]
  },
  {
   "cell_type": "markdown",
   "id": "a2ceb0ec",
   "metadata": {},
   "source": [
    "No more than 5% of users made more than 2 orders, and no more than 1% of users made more than 4 orders. The threshold for an abnormal number of orders is set at more than 2 orders."
   ]
  },
  {
   "cell_type": "markdown",
   "id": "8676b657",
   "metadata": {},
   "source": [
    "## 8.\tPlot a scatter plot of order values. Make conclusions and assumptions."
   ]
  },
  {
   "cell_type": "code",
   "execution_count": 32,
   "id": "88e2b216",
   "metadata": {},
   "outputs": [
    {
     "data": {
      "text/plain": [
       "<matplotlib.collections.PathCollection at 0x261a075b2e0>"
      ]
     },
     "execution_count": 32,
     "metadata": {},
     "output_type": "execute_result"
    },
    {
     "data": {
      "image/png": "[encoded data removed]",
      "text/plain": [
       "<Figure size 640x480 with 1 Axes>"
      ]
     },
     "metadata": {},
     "output_type": "display_data"
    }
   ],
   "source": [
    "##  Построим диаграмму методом scatter(). Напомним, что ему передают значения по осям X и Y. \n",
    "## Значения по горизонтальной оси есть в прекоде, в переменной x_values — сгенерированные номера наблюдений. \n",
    "## Значения для вертикальной оси возьмём из столбца 'revenue' датафрейма orders.\n",
    "\n",
    "x_values = pd.Series(range(0,len(orders['revenue'])))\n",
    "plt.scatter(x_values, orders['revenue']) "
   ]
  },
  {
   "cell_type": "markdown",
   "id": "1205f9cc",
   "metadata": {},
   "source": [
    "There is an outlier around 1.2 million rubles and around 200 thousand rubles. An order of 1.2 million rubles looks anomalous."
   ]
  },
  {
   "cell_type": "markdown",
   "id": "ba207961",
   "metadata": {},
   "source": [
    "## 9.\tCalculate the 95th and 99th percentiles of order values. Choose a threshold for determining anomalous orders.\n",
    "revenue — order revenue"
   ]
  },
  {
   "cell_type": "code",
   "execution_count": 33,
   "id": "fb87bb8a",
   "metadata": {},
   "outputs": [
    {
     "name": "stdout",
     "output_type": "stream",
     "text": [
      "[28000.  58233.2]\n"
     ]
    }
   ],
   "source": [
    "# Передадим методу np.percentile() столбец 'revenue' датафрейма orders \n",
    "# и список перцентилей — [95, 99]\n",
    "##import numpy as np\n",
    "print(np.percentile(orders['revenue'], [95, 99])) "
   ]
  },
  {
   "cell_type": "markdown",
   "id": "29462cb0",
   "metadata": {},
   "source": [
    "No more than 5% of orders have a value higher than 28,000 rubles. And no more than 1% of orders have a value higher than 58,233 rubles. The threshold for abnormal order values is anything above 28,000 rubles, which is considered an anomaly."
   ]
  },
  {
   "cell_type": "markdown",
   "id": "e5b10798",
   "metadata": {},
   "source": [
    "## 10.\tCalculate the statistical significance of the differences in the average NUMBER of orders per visitor between the groups using \"raw\" data.\n",
    "\n",
    "First, we will assemble the table - data.\n",
    "\n",
    "File /datasets/orders.csv:\n",
    "\n",
    "transactionId — order identifier;\n",
    "visitorId — user identifier who made the order;\n",
    "date — date when the order was made;\n",
    "revenue — order revenue;\n",
    "group — A/B test group the order belongs to."
   ]
  },
  {
   "cell_type": "markdown",
   "id": "7367bc01",
   "metadata": {},
   "source": [
    "#### Начинаем с таблицы visitors"
   ]
  },
  {
   "cell_type": "code",
   "execution_count": 34,
   "id": "5676c3d1",
   "metadata": {},
   "outputs": [
    {
     "data": {
      "text/html": [
       "<div>\n",
       "<style scoped>\n",
       "    .dataframe tbody tr th:only-of-type {\n",
       "        vertical-align: middle;\n",
       "    }\n",
       "\n",
       "    .dataframe tbody tr th {\n",
       "        vertical-align: top;\n",
       "    }\n",
       "\n",
       "    .dataframe thead th {\n",
       "        text-align: right;\n",
       "    }\n",
       "</style>\n",
       "<table border=\"1\" class=\"dataframe\">\n",
       "  <thead>\n",
       "    <tr style=\"text-align: right;\">\n",
       "      <th></th>\n",
       "      <th>date</th>\n",
       "      <th>visitorsPerDateA</th>\n",
       "    </tr>\n",
       "  </thead>\n",
       "  <tbody>\n",
       "    <tr>\n",
       "      <th>0</th>\n",
       "      <td>2019-08-01</td>\n",
       "      <td>719</td>\n",
       "    </tr>\n",
       "    <tr>\n",
       "      <th>1</th>\n",
       "      <td>2019-08-02</td>\n",
       "      <td>619</td>\n",
       "    </tr>\n",
       "    <tr>\n",
       "      <th>2</th>\n",
       "      <td>2019-08-03</td>\n",
       "      <td>507</td>\n",
       "    </tr>\n",
       "    <tr>\n",
       "      <th>3</th>\n",
       "      <td>2019-08-04</td>\n",
       "      <td>717</td>\n",
       "    </tr>\n",
       "    <tr>\n",
       "      <th>4</th>\n",
       "      <td>2019-08-05</td>\n",
       "      <td>756</td>\n",
       "    </tr>\n",
       "  </tbody>\n",
       "</table>\n",
       "</div>"
      ],
      "text/plain": [
       "        date  visitorsPerDateA\n",
       "0 2019-08-01  719             \n",
       "1 2019-08-02  619             \n",
       "2 2019-08-03  507             \n",
       "3 2019-08-04  717             \n",
       "4 2019-08-05  756             "
      ]
     },
     "execution_count": 34,
     "metadata": {},
     "output_type": "execute_result"
    }
   ],
   "source": [
    "## 1. visitorsA,B — количество пользователей в выбранную дату в группе A,B:\n",
    "\n",
    "visitorsADaily = visitors[visitors['group'] == 'A'][['date', 'visitors']]\n",
    "visitorsADaily.columns = ['date', 'visitorsPerDateA']\n",
    "\n",
    "visitorsBDaily = visitors[visitors['group'] == 'B'][['date', 'visitors']]\n",
    "visitorsBDaily.columns = ['date', 'visitorsPerDateB']\n",
    "\n",
    "visitorsADaily.head(5)"
   ]
  },
  {
   "cell_type": "code",
   "execution_count": 35,
   "id": "b5eb32e7",
   "metadata": {},
   "outputs": [
    {
     "data": {
      "text/html": [
       "<div>\n",
       "<style scoped>\n",
       "    .dataframe tbody tr th:only-of-type {\n",
       "        vertical-align: middle;\n",
       "    }\n",
       "\n",
       "    .dataframe tbody tr th {\n",
       "        vertical-align: top;\n",
       "    }\n",
       "\n",
       "    .dataframe thead th {\n",
       "        text-align: right;\n",
       "    }\n",
       "</style>\n",
       "<table border=\"1\" class=\"dataframe\">\n",
       "  <thead>\n",
       "    <tr style=\"text-align: right;\">\n",
       "      <th></th>\n",
       "      <th>date</th>\n",
       "      <th>visitorsPerDateB</th>\n",
       "    </tr>\n",
       "  </thead>\n",
       "  <tbody>\n",
       "    <tr>\n",
       "      <th>31</th>\n",
       "      <td>2019-08-01</td>\n",
       "      <td>713</td>\n",
       "    </tr>\n",
       "    <tr>\n",
       "      <th>32</th>\n",
       "      <td>2019-08-02</td>\n",
       "      <td>581</td>\n",
       "    </tr>\n",
       "    <tr>\n",
       "      <th>33</th>\n",
       "      <td>2019-08-03</td>\n",
       "      <td>509</td>\n",
       "    </tr>\n",
       "    <tr>\n",
       "      <th>34</th>\n",
       "      <td>2019-08-04</td>\n",
       "      <td>770</td>\n",
       "    </tr>\n",
       "    <tr>\n",
       "      <th>35</th>\n",
       "      <td>2019-08-05</td>\n",
       "      <td>707</td>\n",
       "    </tr>\n",
       "  </tbody>\n",
       "</table>\n",
       "</div>"
      ],
      "text/plain": [
       "         date  visitorsPerDateB\n",
       "31 2019-08-01  713             \n",
       "32 2019-08-02  581             \n",
       "33 2019-08-03  509             \n",
       "34 2019-08-04  770             \n",
       "35 2019-08-05  707             "
      ]
     },
     "execution_count": 35,
     "metadata": {},
     "output_type": "execute_result"
    }
   ],
   "source": [
    "visitorsBDaily.head(5)"
   ]
  },
  {
   "cell_type": "code",
   "execution_count": 36,
   "id": "e9b7a3f3",
   "metadata": {},
   "outputs": [
    {
     "data": {
      "text/html": [
       "<div>\n",
       "<style scoped>\n",
       "    .dataframe tbody tr th:only-of-type {\n",
       "        vertical-align: middle;\n",
       "    }\n",
       "\n",
       "    .dataframe tbody tr th {\n",
       "        vertical-align: top;\n",
       "    }\n",
       "\n",
       "    .dataframe thead th {\n",
       "        text-align: right;\n",
       "    }\n",
       "</style>\n",
       "<table border=\"1\" class=\"dataframe\">\n",
       "  <thead>\n",
       "    <tr style=\"text-align: right;\">\n",
       "      <th></th>\n",
       "      <th>date</th>\n",
       "      <th>visitorsCummulativeA</th>\n",
       "    </tr>\n",
       "  </thead>\n",
       "  <tbody>\n",
       "    <tr>\n",
       "      <th>0</th>\n",
       "      <td>2019-08-01</td>\n",
       "      <td>719</td>\n",
       "    </tr>\n",
       "    <tr>\n",
       "      <th>1</th>\n",
       "      <td>2019-08-02</td>\n",
       "      <td>1338</td>\n",
       "    </tr>\n",
       "    <tr>\n",
       "      <th>2</th>\n",
       "      <td>2019-08-03</td>\n",
       "      <td>1845</td>\n",
       "    </tr>\n",
       "  </tbody>\n",
       "</table>\n",
       "</div>"
      ],
      "text/plain": [
       "        date  visitorsCummulativeA\n",
       "0 2019-08-01  719                 \n",
       "1 2019-08-02  1338                \n",
       "2 2019-08-03  1845                "
      ]
     },
     "execution_count": 36,
     "metadata": {},
     "output_type": "execute_result"
    }
   ],
   "source": [
    "## 2. пункт\n",
    "\n",
    "visitorsACummulative = visitorsADaily.apply(\n",
    "    lambda x: visitorsADaily[visitorsADaily['date'] <= x['date']].agg(\n",
    "        {'date': 'max', 'visitorsPerDateA': 'sum'}\n",
    "    ),\n",
    "    axis=1,\n",
    ")\n",
    "visitorsACummulative.columns = ['date', 'visitorsCummulativeA']\n",
    "\n",
    "visitorsBCummulative = visitorsBDaily.apply(\n",
    "    lambda x: visitorsBDaily[visitorsBDaily['date'] <= x['date']].agg(\n",
    "        {'date': 'max', 'visitorsPerDateB': 'sum'}\n",
    "    ),\n",
    "    axis=1,\n",
    ")\n",
    "visitorsBCummulative.columns = ['date', 'visitorsCummulativeB']\n",
    "\n",
    "visitorsACummulative.head(3)"
   ]
  },
  {
   "cell_type": "markdown",
   "id": "e6447661",
   "metadata": {},
   "source": [
    "#### Now let's proceed to the orders table."
   ]
  },
  {
   "cell_type": "code",
   "execution_count": 37,
   "id": "dbc526af",
   "metadata": {},
   "outputs": [
    {
     "data": {
      "text/html": [
       "<div>\n",
       "<style scoped>\n",
       "    .dataframe tbody tr th:only-of-type {\n",
       "        vertical-align: middle;\n",
       "    }\n",
       "\n",
       "    .dataframe tbody tr th {\n",
       "        vertical-align: top;\n",
       "    }\n",
       "\n",
       "    .dataframe thead th {\n",
       "        text-align: right;\n",
       "    }\n",
       "</style>\n",
       "<table border=\"1\" class=\"dataframe\">\n",
       "  <thead>\n",
       "    <tr style=\"text-align: right;\">\n",
       "      <th></th>\n",
       "      <th>date</th>\n",
       "      <th>ordersPerDateA</th>\n",
       "      <th>revenuePerDateA</th>\n",
       "    </tr>\n",
       "  </thead>\n",
       "  <tbody>\n",
       "    <tr>\n",
       "      <th>0</th>\n",
       "      <td>2019-08-01</td>\n",
       "      <td>24</td>\n",
       "      <td>148579</td>\n",
       "    </tr>\n",
       "    <tr>\n",
       "      <th>1</th>\n",
       "      <td>2019-08-02</td>\n",
       "      <td>20</td>\n",
       "      <td>93822</td>\n",
       "    </tr>\n",
       "    <tr>\n",
       "      <th>2</th>\n",
       "      <td>2019-08-03</td>\n",
       "      <td>24</td>\n",
       "      <td>112473</td>\n",
       "    </tr>\n",
       "    <tr>\n",
       "      <th>3</th>\n",
       "      <td>2019-08-04</td>\n",
       "      <td>16</td>\n",
       "      <td>70825</td>\n",
       "    </tr>\n",
       "    <tr>\n",
       "      <th>4</th>\n",
       "      <td>2019-08-05</td>\n",
       "      <td>25</td>\n",
       "      <td>124218</td>\n",
       "    </tr>\n",
       "  </tbody>\n",
       "</table>\n",
       "</div>"
      ],
      "text/plain": [
       "        date  ordersPerDateA  revenuePerDateA\n",
       "0 2019-08-01  24              148579         \n",
       "1 2019-08-02  20              93822          \n",
       "2 2019-08-03  24              112473         \n",
       "3 2019-08-04  16              70825          \n",
       "4 2019-08-05  25              124218         "
      ]
     },
     "execution_count": 37,
     "metadata": {},
     "output_type": "execute_result"
    }
   ],
   "source": [
    "## 1. пункт. Делаем 2 датафрейма, где в каждом данные сгруппированны по дате и применены агрегирующие\n",
    "## функции.\n",
    "\n",
    "ordersADaily = (\n",
    "    orders[orders['group'] == 'A'][['date', 'transactionId', 'visitorId', 'revenue']]\n",
    "    .groupby('date', as_index=False)\n",
    "    .agg({'transactionId': pd.Series.nunique, 'revenue': 'sum'})\n",
    ")\n",
    "ordersADaily.columns = ['date', 'ordersPerDateA', 'revenuePerDateA']\n",
    "\n",
    "\n",
    "ordersBDaily = (\n",
    "    orders[orders['group'] == 'B'][['date', 'transactionId', 'visitorId', 'revenue']]\n",
    "    .groupby('date', as_index=False)\n",
    "    .agg({'transactionId': pd.Series.nunique, 'revenue': 'sum'})\n",
    ")\n",
    "ordersBDaily.columns = ['date', 'ordersPerDateB', 'revenuePerDateB']\n",
    "\n",
    "\n",
    "ordersADaily.head()"
   ]
  },
  {
   "cell_type": "code",
   "execution_count": 38,
   "id": "41fa649c",
   "metadata": {},
   "outputs": [
    {
     "name": "stdout",
     "output_type": "stream",
     "text": [
      "<class 'pandas.core.frame.DataFrame'>\n",
      "RangeIndex: 31 entries, 0 to 30\n",
      "Data columns (total 3 columns):\n",
      " #   Column           Non-Null Count  Dtype         \n",
      "---  ------           --------------  -----         \n",
      " 0   date             31 non-null     datetime64[ns]\n",
      " 1   ordersPerDateA   31 non-null     int64         \n",
      " 2   revenuePerDateA  31 non-null     int64         \n",
      "dtypes: datetime64[ns](1), int64(2)\n",
      "memory usage: 872.0 bytes\n"
     ]
    }
   ],
   "source": [
    "ordersADaily.info()"
   ]
  },
  {
   "cell_type": "code",
   "execution_count": 39,
   "id": "ef1d520b",
   "metadata": {},
   "outputs": [],
   "source": [
    "ordersADaily['date'] = pd.to_datetime(ordersADaily['date'])\n",
    "ordersBDaily['date'] = pd.to_datetime(ordersBDaily['date'])"
   ]
  },
  {
   "cell_type": "code",
   "execution_count": 40,
   "id": "3388b0f2",
   "metadata": {},
   "outputs": [
    {
     "data": {
      "text/html": [
       "<div>\n",
       "<style scoped>\n",
       "    .dataframe tbody tr th:only-of-type {\n",
       "        vertical-align: middle;\n",
       "    }\n",
       "\n",
       "    .dataframe tbody tr th {\n",
       "        vertical-align: top;\n",
       "    }\n",
       "\n",
       "    .dataframe thead th {\n",
       "        text-align: right;\n",
       "    }\n",
       "</style>\n",
       "<table border=\"1\" class=\"dataframe\">\n",
       "  <thead>\n",
       "    <tr style=\"text-align: right;\">\n",
       "      <th></th>\n",
       "      <th>date</th>\n",
       "      <th>ordersCummulativeA</th>\n",
       "      <th>revenueCummulativeA</th>\n",
       "    </tr>\n",
       "  </thead>\n",
       "  <tbody>\n",
       "    <tr>\n",
       "      <th>0</th>\n",
       "      <td>2019-08-01</td>\n",
       "      <td>24</td>\n",
       "      <td>148579</td>\n",
       "    </tr>\n",
       "    <tr>\n",
       "      <th>1</th>\n",
       "      <td>2019-08-02</td>\n",
       "      <td>44</td>\n",
       "      <td>242401</td>\n",
       "    </tr>\n",
       "    <tr>\n",
       "      <th>2</th>\n",
       "      <td>2019-08-03</td>\n",
       "      <td>68</td>\n",
       "      <td>354874</td>\n",
       "    </tr>\n",
       "    <tr>\n",
       "      <th>3</th>\n",
       "      <td>2019-08-04</td>\n",
       "      <td>84</td>\n",
       "      <td>425699</td>\n",
       "    </tr>\n",
       "    <tr>\n",
       "      <th>4</th>\n",
       "      <td>2019-08-05</td>\n",
       "      <td>109</td>\n",
       "      <td>549917</td>\n",
       "    </tr>\n",
       "  </tbody>\n",
       "</table>\n",
       "</div>"
      ],
      "text/plain": [
       "        date  ordersCummulativeA  revenueCummulativeA\n",
       "0 2019-08-01  24                  148579             \n",
       "1 2019-08-02  44                  242401             \n",
       "2 2019-08-03  68                  354874             \n",
       "3 2019-08-04  84                  425699             \n",
       "4 2019-08-05  109                 549917             "
      ]
     },
     "execution_count": 40,
     "metadata": {},
     "output_type": "execute_result"
    }
   ],
   "source": [
    "## 2 пункт - КУМУЛЯТИВНЫЕ ДАННЫЕ-нарастающие данные. Применена функция lambda.\n",
    "\n",
    "ordersACummulative = ordersADaily.apply(\n",
    "    lambda x: ordersADaily[ordersADaily['date'] <= x['date']].agg(\n",
    "        {'date': 'max', 'ordersPerDateA': 'sum', 'revenuePerDateA': 'sum'}\n",
    "    ),\n",
    "    axis=1,\n",
    ").sort_values(by=['date'])\n",
    "\n",
    "ordersACummulative.columns = [\n",
    "    'date',\n",
    "    'ordersCummulativeA',\n",
    "    'revenueCummulativeA',\n",
    "]\n",
    "\n",
    "\n",
    "ordersBCummulative = ordersBDaily.apply(\n",
    "    lambda x: ordersBDaily[ordersBDaily['date'] <= x['date']].agg(\n",
    "        {'date': 'max', 'ordersPerDateB': 'sum', 'revenuePerDateB': 'sum'}\n",
    "    ),\n",
    "    axis=1,\n",
    ").sort_values(by=['date'])\n",
    "ordersBCummulative.columns = [\n",
    "    'date',\n",
    "    'ordersCummulativeB',\n",
    "    'revenueCummulativeB',\n",
    "]\n",
    "\n",
    "ordersACummulative.head()"
   ]
  },
  {
   "cell_type": "markdown",
   "id": "3a1876c0",
   "metadata": {},
   "source": [
    "### Now let's proceed to create the data table. Combine using .merge()."
   ]
  },
  {
   "cell_type": "code",
   "execution_count": 41,
   "id": "ae8796c2",
   "metadata": {},
   "outputs": [
    {
     "name": "stdout",
     "output_type": "stream",
     "text": [
      "        date  ordersPerDateA  revenuePerDateA  ordersPerDateB  \\\n",
      "0 2019-08-01  24              148579           21               \n",
      "1 2019-08-02  20              93822            24               \n",
      "2 2019-08-03  24              112473           16               \n",
      "3 2019-08-04  16              70825            17               \n",
      "4 2019-08-05  25              124218           23               \n",
      "\n",
      "   revenuePerDateB  ordersCummulativeA  revenueCummulativeA  \\\n",
      "0  101217           24                  148579                \n",
      "1  165531           44                  242401                \n",
      "2  114248           68                  354874                \n",
      "3  108571           84                  425699                \n",
      "4  92428            109                 549917                \n",
      "\n",
      "   ordersCummulativeB  revenueCummulativeB  visitorsPerDateA  \\\n",
      "0  21                  101217               719                \n",
      "1  45                  266748               619                \n",
      "2  61                  380996               507                \n",
      "3  78                  489567               717                \n",
      "4  101                 581995               756                \n",
      "\n",
      "   visitorsPerDateB  visitorsCummulativeA  visitorsCummulativeB  \n",
      "0  713               719                   713                   \n",
      "1  581               1338                  1294                  \n",
      "2  509               1845                  1803                  \n",
      "3  770               2562                  2573                  \n",
      "4  707               3318                  3280                  \n"
     ]
    }
   ],
   "source": [
    "data = (\n",
    "    ordersADaily.merge(\n",
    "        ordersBDaily, left_on='date', right_on='date', how='left'\n",
    "    )\n",
    "    .merge(ordersACummulative, left_on='date', right_on='date', how='left')\n",
    "    .merge(ordersBCummulative, left_on='date', right_on='date', how='left')\n",
    "    .merge(visitorsADaily, left_on='date', right_on='date', how='left')\n",
    "    .merge(visitorsBDaily, left_on='date', right_on='date', how='left')\n",
    "    .merge(visitorsACummulative, left_on='date', right_on='date', how='left')\n",
    "    .merge(visitorsBCummulative, left_on='date', right_on='date', how='left')\n",
    ")\n",
    "\n",
    "print(data.head(5)) "
   ]
  },
  {
   "cell_type": "markdown",
   "id": "810d411c",
   "metadata": {},
   "source": [
    "##### Напомним названия столбцов данных:\n",
    "\n",
    "date — дата;\n",
    "\n",
    "ordersPerDateA — количество заказов в выбранную дату в группе A;\n",
    "\n",
    "revenuePerDateA — суммарная выручка в выбранную дату в группе A;\n",
    "\n",
    "ordersPerDateB — количество заказов в выбранную дату в группе B;\n",
    "\n",
    "revenuePerDateB — суммарная выручка в выбранную дату в группе B;\n",
    "\n",
    "ordersCummulativeA — суммарное число заказов до выбранной даты включительно в группе A;\n",
    "\n",
    "revenueCummulativeA — суммарная выручка до выбранной даты включительно в группе A;\n",
    "\n",
    "ordersCummulativeB — суммарное количество заказов до выбранной даты включительно в группе B;\n",
    "\n",
    "revenueCummulativeB — суммарная выручка до выбранной даты включительно в группе B;\n",
    "\n",
    "visitorsPerDateA — количество пользователей в выбранную дату в группе A;\n",
    "\n",
    "visitorsPerDateB — количество пользователей в выбранную дату в группе B;\n",
    "\n",
    "visitorsCummulativeA — количество пользователей до выбранной даты включительно в группе A;\n",
    "\n",
    "visitorsCummulativeB — количество пользователей до выбранной даты включительно в группе B.\n"
   ]
  },
  {
   "cell_type": "markdown",
   "id": "89875c3a",
   "metadata": {},
   "source": [
    "#### Let's calculate the statistical significance of the difference in the average number of orders between the groups.\n"
   ]
  },
  {
   "cell_type": "code",
   "execution_count": 42,
   "id": "b69902fa",
   "metadata": {},
   "outputs": [
    {
     "data": {
      "text/html": [
       "<div>\n",
       "<style scoped>\n",
       "    .dataframe tbody tr th:only-of-type {\n",
       "        vertical-align: middle;\n",
       "    }\n",
       "\n",
       "    .dataframe tbody tr th {\n",
       "        vertical-align: top;\n",
       "    }\n",
       "\n",
       "    .dataframe thead th {\n",
       "        text-align: right;\n",
       "    }\n",
       "</style>\n",
       "<table border=\"1\" class=\"dataframe\">\n",
       "  <thead>\n",
       "    <tr style=\"text-align: right;\">\n",
       "      <th></th>\n",
       "      <th>userId</th>\n",
       "      <th>orders</th>\n",
       "    </tr>\n",
       "  </thead>\n",
       "  <tbody>\n",
       "    <tr>\n",
       "      <th>0</th>\n",
       "      <td>8300375</td>\n",
       "      <td>1</td>\n",
       "    </tr>\n",
       "    <tr>\n",
       "      <th>1</th>\n",
       "      <td>11685486</td>\n",
       "      <td>1</td>\n",
       "    </tr>\n",
       "    <tr>\n",
       "      <th>2</th>\n",
       "      <td>54447517</td>\n",
       "      <td>1</td>\n",
       "    </tr>\n",
       "    <tr>\n",
       "      <th>3</th>\n",
       "      <td>66685450</td>\n",
       "      <td>1</td>\n",
       "    </tr>\n",
       "    <tr>\n",
       "      <th>4</th>\n",
       "      <td>78758296</td>\n",
       "      <td>1</td>\n",
       "    </tr>\n",
       "  </tbody>\n",
       "</table>\n",
       "</div>"
      ],
      "text/plain": [
       "     userId  orders\n",
       "0  8300375   1     \n",
       "1  11685486  1     \n",
       "2  54447517  1     \n",
       "3  66685450  1     \n",
       "4  78758296  1     "
      ]
     },
     "execution_count": 42,
     "metadata": {},
     "output_type": "execute_result"
    }
   ],
   "source": [
    "## 1. Создадим переменные ordersByUsersA и ordersByUsersB со столбцами ['userId', 'orders']. \n",
    "## В них для пользователей, которые заказывали хотя бы 1 раз, укажем число совершённых заказов. \n",
    "\n",
    "ordersByUsersA = (\n",
    "    orders[orders['group'] == 'A']\n",
    "    .groupby('visitorId', as_index=False)\n",
    "    .agg({'transactionId': pd.Series.nunique})\n",
    ")\n",
    "\n",
    "ordersByUsersA.columns = ['userId', 'orders']\n",
    "\n",
    "ordersByUsersB = (\n",
    "    orders[orders['group'] == 'B']\n",
    "    .groupby('visitorId', as_index=False)\n",
    "    .agg({'transactionId': pd.Series.nunique})\n",
    ")\n",
    "\n",
    "ordersByUsersB.columns = ['userId', 'orders']\n",
    "\n",
    "ordersByUsersA.head(5)"
   ]
  },
  {
   "cell_type": "markdown",
   "id": "772cb52b",
   "metadata": {},
   "source": [
    "\n",
    "##2. Declare the variables sampleA and sampleB, where the users from different groups will correspond to the number of orders.\n",
    "\n",
    "Those who did not order anything will correspond to zeros. This is needed to prepare the samples for the Mann-Whitney test.\n",
    "\n",
    "The variable sampleA should consist of two parts:\n",
    "\n",
    "1. A list with the number of orders for each user: ordersByUsersA['orders'].\n",
    "\n",
    "2. Zeros for users who did not order anything. Their number is equal to the difference between the total number of visitors and the number of order records:\n",
    "\n",
    "data['visitorsPerDateA'].sum() - len(ordersByUsersA['orders']). Create a pd.Series object of the required length:\n"
   ]
  },
  {
   "cell_type": "code",
   "execution_count": 43,
   "id": "38a298ff",
   "metadata": {},
   "outputs": [
    {
     "data": {
      "text/plain": [
       "0        0\n",
       "1        0\n",
       "2        0\n",
       "3        0\n",
       "4        0\n",
       "        ..\n",
       "18228    0\n",
       "18229    0\n",
       "18230    0\n",
       "18231    0\n",
       "18232    0\n",
       "Name: orders, Length: 18233, dtype: int64"
      ]
     },
     "execution_count": 43,
     "metadata": {},
     "output_type": "execute_result"
    }
   ],
   "source": [
    "\n",
    "## Created a list of indices using the np.arange() function.\n",
    "## It works just like the range() function, but creates an array of indices in the np.array format, which is required in pd.Series.\n",
    "\n",
    "pd.Series(0, index=np.arange(data['visitorsPerDateA'].sum() - len(ordersByUsersA['orders'])), name='orders')\n",
    " "
   ]
  },
  {
   "cell_type": "code",
   "execution_count": 44,
   "id": "1a922a21",
   "metadata": {},
   "outputs": [
    {
     "data": {
      "text/plain": [
       "0    1\n",
       "1    1\n",
       "2    1\n",
       "3    1\n",
       "4    1\n",
       "5    1\n",
       "6    1\n",
       "7    1\n",
       "8    1\n",
       "9    1\n",
       "Name: orders, dtype: int64"
      ]
     },
     "execution_count": 44,
     "metadata": {},
     "output_type": "execute_result"
    }
   ],
   "source": [
    "\n",
    "## In Pandas, sequences are combined using the pd.concat() function (from the word concatenate, \"to link together\").\n",
    "## First, pass what you want to combine — in our case, a list of the first and second parts.\n",
    "## Then, pass an argument indicating that the Series objects should be combined by rows (i.e., written one after the other): pd.concat([...], axis=0). \n",
    "## Do the same for sampleB and get:\n",
    "\n",
    "sampleA = pd.concat([ordersByUsersA['orders'],pd.Series(0, index=np.arange(data['visitorsPerDateA'].sum() - len(ordersByUsersA['orders'])), name='orders')],axis=0)\n",
    "\n",
    "sampleB = pd.concat([ordersByUsersB['orders'],pd.Series(0, index=np.arange(data['visitorsPerDateB'].sum() - len(ordersByUsersB['orders'])), name='orders')],axis=0)\n",
    "\n",
    "sampleA.head(10)"
   ]
  },
  {
   "cell_type": "markdown",
   "id": "0e34781d",
   "metadata": {},
   "source": [
    "#### Apply the test and format the p-value, rounding it to three decimal places.\n",
    "\n",
    "Recall that in sampleA, we have saved a sample where each element is the number of orders for a specific user, including zero. Therefore, the number of elements in sampleA is the number of users, and the sum of all elements is the number of orders. To get the average number of orders per user, divide the total number of orders by the number of users — find the mean in sampleA using the mean() method. Similarly, find the mean for group B: sampleB.mean().\n",
    "\n",
    "Output the relative increase in the average number of orders for group B: average number of orders for group B / average number of orders for group A - 1. Round to three decimal places."
   ]
  },
  {
   "cell_type": "markdown",
   "id": "c19d7927",
   "metadata": {},
   "source": [
    "Null hypothesis: There are no statistically significant differences in the average number of orders between the groups. Alternative hypothesis: There are differences in the average number of orders between the groups."
   ]
  },
  {
   "cell_type": "code",
   "execution_count": 45,
   "id": "47fde581",
   "metadata": {},
   "outputs": [
    {
     "name": "stdout",
     "output_type": "stream",
     "text": [
      "0.017\n",
      "0.138\n"
     ]
    }
   ],
   "source": [
    "## p-value- статистическая значимость:\n",
    "print(\"{0:.3f}\".format(stats.mannwhitneyu(sampleA, sampleB)[1]))\n",
    "\n",
    "##  относительный прирост среднего числа заказов группы B\n",
    "print(\"{0:.3f}\".format(sampleB.mean() / sampleA.mean() - 1))"
   ]
  },
  {
   "cell_type": "markdown",
   "id": "640dfe43",
   "metadata": {},
   "source": [
    "### Conclusion: According to the \"raw\" data, there are DIFFERENCES in the average NUMBER OF ORDERS between groups A and B.\n",
    "\n",
    "The first number — p-value = 0.017 < 0.05. Therefore, we reject the null hypothesis that there are no statistically significant differences in the average number of orders between the groups. However, the relative gain of group B is 13.8% — the second number in the conclusion. Segment B is significantly better than segment A."
   ]
  },
  {
   "cell_type": "markdown",
   "id": "9455075f",
   "metadata": {},
   "source": [
    "## 11.\tCalculate the statistical significance of the difference in the average order value between the groups using \"raw\" data.\n",
    "\n",
    "Make conclusions and assumptions.\n",
    "\n",
    "Null hypothesis: There are no differences in the average order value between the groups.\n",
    "Alternative hypothesis: There are differences in the average order value between the groups.\n",
    "\n",
    "To calculate the statistical significance of the difference in the average order value, we will pass the revenue data from orders to the Mann-Whitney U test.\n",
    "We will also find the relative differences in the average order value between the groups:"
   ]
  },
  {
   "cell_type": "code",
   "execution_count": 46,
   "id": "a2eaca6b",
   "metadata": {},
   "outputs": [
    {
     "name": "stdout",
     "output_type": "stream",
     "text": [
      "0.729\n",
      "0.259\n"
     ]
    }
   ],
   "source": [
    "## статистическая значимость различий в среднем чеке - P-value\n",
    "print('{0:.3f}'.format(stats.mannwhitneyu(orders[orders['group']=='A']['revenue'], orders[orders['group']=='B']['revenue'])[1]))\n",
    "\n",
    "## относительные различия в среднем чеке между группами\n",
    "print('{0:.3f}'.format(orders[orders['group']=='B']['revenue'].mean()/orders[orders['group']=='A']['revenue'].mean()-1))"
   ]
  },
  {
   "cell_type": "markdown",
   "id": "1898667a",
   "metadata": {},
   "source": [
    "Conclusion: P-value (0.729) > 0.05. There are no differences in the average order value between the groups.\n",
    "\n",
    "Thus, the null hypothesis is not rejected.\n",
    "Moreover, the relative difference in the average order value between segments B and A is only 25.9%.\n"
   ]
  },
  {
   "cell_type": "markdown",
   "id": "1c7ab44e",
   "metadata": {},
   "source": [
    "Recall that the 95th and 99th percentiles of average order values are 28,000 and 58,233 rubles, respectively. The 95th and 99th percentiles of the number of orders per user are 2 and 4 orders per user.\n",
    "\n",
    "We will consider users who have made 2 or more orders or placed an order worth more than 28,000 rubles as anomalous users. This way, we will exclude 5% of users with the highest number of orders and 1% to 5% of users with expensive orders.\n",
    "\n",
    "We will create slices of users with more than 2 orders — usersWithManyOrders and users who placed orders worth more than 28,000 — usersWithExpensiveOrders.\n",
    "\n",
    "We will combine them into the abnormalUsers table.\n",
    "Let's find out the total number of anomalous users using the shape attribute."
   ]
  },
  {
   "cell_type": "code",
   "execution_count": 47,
   "id": "11397d10",
   "metadata": {
    "scrolled": true
   },
   "outputs": [
    {
     "name": "stdout",
     "output_type": "stream",
     "text": [
      "1099    148427295\n",
      "18      199603092\n",
      "928     204675465\n",
      "23      237748145\n",
      "37      249864742\n",
      "dtype: int64\n",
      "74\n"
     ]
    }
   ],
   "source": [
    "usersWithManyOrders = pd.concat(\n",
    "    [\n",
    "        ordersByUsersA[ordersByUsersA['orders'] > 2]['userId'],\n",
    "        ordersByUsersB[ordersByUsersB['orders'] > 2]['userId'],\n",
    "    ],\n",
    "    axis=0,\n",
    ")\n",
    "\n",
    "usersWithExpensiveOrders = orders[orders['revenue'] > 28000]['visitorId']\n",
    "\n",
    "abnormalUsers = (\n",
    "    pd.concat([usersWithManyOrders, usersWithExpensiveOrders], axis=0)\n",
    "    .drop_duplicates()\n",
    "    .sort_values()\n",
    ")\n",
    "\n",
    "print(abnormalUsers.head(5))\n",
    "print(abnormalUsers.shape[0])"
   ]
  },
  {
   "cell_type": "markdown",
   "id": "5ccada58",
   "metadata": {},
   "source": [
    "Conclusion: There are a total of 74 anomalous users."
   ]
  },
  {
   "cell_type": "markdown",
   "id": "9416a083",
   "metadata": {},
   "source": [
    "## 12.\tCalculate the statistical significance of the difference in the average number of orders per visitor between the groups using \"cleaned\" data.\n"
   ]
  },
  {
   "cell_type": "markdown",
   "id": "e5456a6e",
   "metadata": {},
   "source": [
    "Null Hypothesis\n",
    "\n",
    "Let's find out how their actions affected the test results. Calculate the statistical significance of the difference in the average number of orders between the test groups using cleaned data. First, prepare the samples of the number of orders per user by test groups:"
   ]
  },
  {
   "cell_type": "code",
   "execution_count": 48,
   "id": "2f1dcde2",
   "metadata": {},
   "outputs": [],
   "source": [
    "sampleAFiltered = pd.concat(\n",
    "    [\n",
    "        ordersByUsersA[\n",
    "            np.logical_not(ordersByUsersA['userId'].isin(abnormalUsers))\n",
    "        ]['orders'],\n",
    "        pd.Series(\n",
    "            0,\n",
    "            index=np.arange(\n",
    "                data['visitorsPerDateA'].sum() - len(ordersByUsersA['orders'])\n",
    "            ),\n",
    "            name='orders',\n",
    "        ),\n",
    "    ],\n",
    "    axis=0,\n",
    ")\n",
    "\n",
    "sampleBFiltered = pd.concat(\n",
    "    [\n",
    "        ordersByUsersB[\n",
    "            np.logical_not(ordersByUsersB['userId'].isin(abnormalUsers))\n",
    "        ]['orders'],\n",
    "        pd.Series(\n",
    "            0,\n",
    "            index=np.arange(\n",
    "                data['visitorsPerDateB'].sum() - len(ordersByUsersB['orders'])\n",
    "            ),\n",
    "            name='orders',\n",
    "        ),\n",
    "    ],\n",
    "    axis=0,\n",
    ")"
   ]
  },
  {
   "cell_type": "markdown",
   "id": "40583884",
   "metadata": {},
   "source": [
    "Null hypothesis: There are no statistically significant differences in the average number of orders between the groups.\n",
    "Alternative hypothesis: There are differences in the average number of orders between the groups."
   ]
  },
  {
   "cell_type": "code",
   "execution_count": 49,
   "id": "cb501c4c",
   "metadata": {},
   "outputs": [
    {
     "name": "stdout",
     "output_type": "stream",
     "text": [
      "0.013\n",
      "0.173\n"
     ]
    }
   ],
   "source": [
    "## Apply the Mann-Whitney statistical test to the obtained samples:\n",
    "\n",
    "print('{0:.3f}'.format(stats.mannwhitneyu(sampleAFiltered, sampleBFiltered)[1]))\n",
    "print('{0:.3f}'.format(sampleBFiltered.mean()/sampleAFiltered.mean()-1))"
   ]
  },
  {
   "cell_type": "markdown",
   "id": "664254de",
   "metadata": {},
   "source": [
    "Conclusion: The null hypothesis is rejected - there are differences in the average number of orders between the groups.\n",
    "\n",
    "The results for the average number of orders have changed.\n",
    "Previously: 0.017\n",
    "0.138"
   ]
  },
  {
   "cell_type": "markdown",
   "id": "5f63ded9",
   "metadata": {},
   "source": [
    "## 13.\tCalculate the statistical significance of the difference in the average order value between the groups using \"cleaned\" data."
   ]
  },
  {
   "cell_type": "markdown",
   "id": "f7adbc95",
   "metadata": {},
   "source": [
    "Null hypothesis: There are no differences in the average order value between the groups. Alternative hypothesis: There are differences in the average order value between the groups."
   ]
  },
  {
   "cell_type": "code",
   "execution_count": 50,
   "id": "82dbd7ba",
   "metadata": {},
   "outputs": [
    {
     "name": "stdout",
     "output_type": "stream",
     "text": [
      "0.738\n",
      "-0.020\n"
     ]
    }
   ],
   "source": [
    "print(\n",
    "    '{0:.3f}'.format(\n",
    "        stats.mannwhitneyu(\n",
    "            orders[\n",
    "                np.logical_and(\n",
    "                    orders['group'] == 'A',\n",
    "                    np.logical_not(orders['visitorId'].isin(abnormalUsers)),\n",
    "                )\n",
    "            ]['revenue'],\n",
    "            orders[\n",
    "                np.logical_and(\n",
    "                    orders['group'] == 'B',\n",
    "                    np.logical_not(orders['visitorId'].isin(abnormalUsers)),\n",
    "                )\n",
    "            ]['revenue'],\n",
    "        )[1]\n",
    "    )\n",
    ")\n",
    "\n",
    "print(\n",
    "    \"{0:.3f}\".format(\n",
    "        orders[\n",
    "            np.logical_and(\n",
    "                orders['group'] == 'B',\n",
    "                np.logical_not(orders['visitorId'].isin(abnormalUsers)),\n",
    "            )\n",
    "        ]['revenue'].mean()\n",
    "        / orders[\n",
    "            np.logical_and(\n",
    "                orders['group'] == 'A',\n",
    "                np.logical_not(orders['visitorId'].isin(abnormalUsers)),\n",
    "            )\n",
    "        ]['revenue'].mean()\n",
    "        - 1\n",
    "    )\n",
    ")"
   ]
  },
  {
   "cell_type": "markdown",
   "id": "ea26c861",
   "metadata": {},
   "source": [
    "P-value increased slightly, by 0.9 points.\n",
    "\n",
    "Conclusion: P-value (0.738) > 0.05. There are no differences in the average order value between the groups.\n",
    "\n",
    "The difference between the segments increased from 25.9% to -2%. There were many outliers in group A.\n",
    "The overall conclusions from the test have changed; this example clearly shows how much anomalies can affect A/B test results!\n",
    "\n",
    "Previously: 0.729 and 0.259\n"
   ]
  },
  {
   "cell_type": "markdown",
   "id": "ebd592b7",
   "metadata": {},
   "source": [
    "## 14.\tMake a decision based on the test results and explain it. Possible decisions:\n",
    "\n",
    "1. Stop the test and declare one of the groups as the winner.\n",
    "2. Stop the test and declare no differences between the groups.\n",
    "3. Continue the test."
   ]
  },
  {
   "cell_type": "markdown",
   "id": "695363b3",
   "metadata": {},
   "source": [
    "10. Calculate the statistical significance of the difference in the average number of orders per visitor between the groups using \"raw\" data.\n",
    "\n",
    "Null hypothesis: There are no statistically significant differences in the average number of orders between the groups. Alternative hypothesis: There are differences in the average number of orders between the groups.\n",
    "0.017 < 0.05 – the null hypothesis is rejected\n",
    "\n",
    "0.017\n",
    "0.138\n",
    "\n",
    "Conclusion: According to the \"raw\" data, there are DIFFERENCES in the average NUMBER OF ORDERS between groups A and B.\n",
    "\n",
    "11. Calculate the statistical significance of the difference in the average order value between the groups using \"raw\" data.\n",
    "Null hypothesis: There are no differences in the average order value between the groups. Alternative hypothesis: There are differences in the average order value between the groups.\n",
    "\n",
    "0.729\n",
    "0.259\n",
    "\n",
    "Conclusion: P-value (0.729) > 0.05. There are no differences in the average order value between the groups.\n",
    "\n",
    "Thus, the null hypothesis is not rejected. Moreover, the relative difference in the average order value between segments B and A is only 25.9%.\n",
    "\n",
    "12. Calculate the statistical significance of the difference in the average number of orders per visitor between the groups using \"cleaned\" data.\n",
    "Null hypothesis: There are no statistically significant differences in the average number of orders between the groups.\n",
    "Alternative hypothesis: There are differences in the average number of orders between the groups. Let's see how their actions affected the test results.\n",
    "0.013\n",
    "0.173\n",
    "\n",
    "Conclusion: P-value (0.013) < 0.05. There are differences in the average number of orders between the groups.\n",
    "\n",
    "Previously: 0.017\n",
    "0.138\n",
    "\n",
    "13. Calculate the statistical significance of the difference in the average order value between the groups using \"cleaned\" data.\n",
    "Null hypothesis: There are no differences in the average order value between the groups. Alternative hypothesis: There are differences in the average order value between the groups.\n",
    "\n",
    "0.738\n",
    "-0.020\n",
    "\n",
    "Conclusion: P-value (0.738) > 0.05. There are no differences in the average order value between the groups.\n"
   ]
  },
  {
   "cell_type": "markdown",
   "id": "fe76f4ac",
   "metadata": {},
   "source": [
    "What conclusions can we draw from the test?\n",
    "\n",
    "Existing facts:\n",
    "\n",
    "1. According to both \"raw\" and \"cleaned\" data, there are statistically significant differences in the average NUMBER of orders between groups A and B.\n",
    "\n",
    "2. According to both \"raw\" and \"cleaned\" data, there are no statistically significant differences in the average ORDER VALUE between groups A and B.\n",
    "\n",
    "The graph of the difference in the average number of orders between the groups shows that the results of group B are better than those of group A and there is no significant trend for improvement."
   ]
  },
  {
   "cell_type": "code",
   "execution_count": 51,
   "id": "9be3a173",
   "metadata": {},
   "outputs": [
    {
     "data": {
      "text/plain": [
       "<matplotlib.lines.Line2D at 0x261a06ee6a0>"
      ]
     },
     "execution_count": 51,
     "metadata": {},
     "output_type": "execute_result"
    },
    {
     "data": {
      "image/png": "[encoded data removed]",
      "text/plain": [
       "<Figure size 640x480 with 1 Axes>"
      ]
     },
     "metadata": {},
     "output_type": "display_data"
    }
   ],
   "source": [
    "## The graph of the difference in the average number of orders between the groups shows that the results of group B \n",
    "## are better than those of group A.\n",
    "\n",
    "mergedCumulativeConversions = cumulativeDataA[['date','conversion']].merge(cumulativeDataB[['date','conversion']], left_on='date', right_on='date', how='left', suffixes=['A', 'B'])\n",
    "\n",
    "plt.plot(mergedCumulativeConversions['date'], mergedCumulativeConversions['conversionB']/mergedCumulativeConversions['conversionA']-1, label=\"Относительный прирост конверсии группы B относительно группы A\")\n",
    "\n",
    "plt.legend()\n",
    "\n",
    "plt.axhline(y=0, color='black', linestyle='--')\n",
    "plt.axhline(y=-0.1, color='grey', linestyle='--')"
   ]
  },
  {
   "cell_type": "code",
   "execution_count": 52,
   "id": "75de8a6a",
   "metadata": {},
   "outputs": [
    {
     "data": {
      "text/plain": [
       "<matplotlib.lines.Line2D at 0x2619e431850>"
      ]
     },
     "execution_count": 52,
     "metadata": {},
     "output_type": "execute_result"
    },
    {
     "data": {
      "image/png": "[encoded data removed]",
      "text/plain": [
       "<Figure size 640x480 with 1 Axes>"
      ]
     },
     "metadata": {},
     "output_type": "display_data"
    }
   ],
   "source": [
    "## The graph of the difference in average order values shows that the results of group B are improving day by day.\n",
    "\n",
    "mergedCumulativeRevenue = cumulativeRevenueA.merge(cumulativeRevenueB, left_on='date', right_on='date', how='left', suffixes=['A', 'B'])\n",
    "\n",
    "# plot the ratio of average order values\n",
    "plt.plot(mergedCumulativeRevenue['date'], (mergedCumulativeRevenue['revenue_cumB']/mergedCumulativeRevenue['transaction_cumB'])/(mergedCumulativeRevenue['revenue_cumA']/mergedCumulativeRevenue['transaction_cumA'])-1)\n",
    "\n",
    "# add the X-axis\n",
    "plt.axhline(y=0, color='black', linestyle='--')\n"
   ]
  },
  {
   "cell_type": "markdown",
   "id": "c14194a4",
   "metadata": {},
   "source": [
    "Based on the findings, the test should be STOPPED and considered successful, and move on to testing the next hypothesis."
   ]
  }
 ],
 "metadata": {
  "ExecuteTimeLog": [
   {
    "duration": 923,
    "start_time": "2023-05-29T01:25:28.778Z"
   },
   {
    "duration": 78,
    "start_time": "2023-05-29T01:25:58.696Z"
   },
   {
    "duration": 14,
    "start_time": "2023-05-29T01:26:04.758Z"
   },
   {
    "duration": 15,
    "start_time": "2023-05-29T01:26:09.209Z"
   },
   {
    "duration": 92,
    "start_time": "2023-05-29T01:26:40.152Z"
   },
   {
    "duration": 15,
    "start_time": "2023-05-29T01:26:44.579Z"
   },
   {
    "duration": 7,
    "start_time": "2023-05-29T01:26:47.598Z"
   },
   {
    "duration": 66,
    "start_time": "2023-05-29T01:27:08.704Z"
   },
   {
    "duration": 11,
    "start_time": "2023-05-29T01:27:12.053Z"
   },
   {
    "duration": 823,
    "start_time": "2023-05-29T01:27:26.689Z"
   },
   {
    "duration": 9,
    "start_time": "2023-05-29T01:27:27.514Z"
   },
   {
    "duration": 12,
    "start_time": "2023-05-29T01:27:27.524Z"
   },
   {
    "duration": 46,
    "start_time": "2023-05-29T01:27:27.539Z"
   },
   {
    "duration": 11,
    "start_time": "2023-05-29T01:27:27.587Z"
   },
   {
    "duration": 8,
    "start_time": "2023-05-29T01:27:27.600Z"
   },
   {
    "duration": 34,
    "start_time": "2023-05-29T01:27:27.609Z"
   },
   {
    "duration": 10,
    "start_time": "2023-05-29T01:27:27.644Z"
   },
   {
    "duration": 9,
    "start_time": "2023-05-29T01:27:27.655Z"
   },
   {
    "duration": 10,
    "start_time": "2023-05-29T01:27:27.666Z"
   },
   {
    "duration": 173,
    "start_time": "2023-05-29T01:27:27.678Z"
   },
   {
    "duration": 139,
    "start_time": "2023-05-29T01:27:27.853Z"
   },
   {
    "duration": 8,
    "start_time": "2023-05-29T01:27:27.994Z"
   },
   {
    "duration": 795,
    "start_time": "2023-05-29T01:27:28.004Z"
   },
   {
    "duration": 171,
    "start_time": "2023-05-29T01:27:28.801Z"
   },
   {
    "duration": 323,
    "start_time": "2023-05-29T01:27:28.974Z"
   },
   {
    "duration": 197,
    "start_time": "2023-05-29T01:27:29.299Z"
   },
   {
    "duration": 324,
    "start_time": "2023-05-29T01:27:29.497Z"
   },
   {
    "duration": 135,
    "start_time": "2023-05-29T01:27:29.823Z"
   },
   {
    "duration": 0,
    "start_time": "2023-05-29T01:27:29.961Z"
   },
   {
    "duration": 0,
    "start_time": "2023-05-29T01:27:29.963Z"
   },
   {
    "duration": 0,
    "start_time": "2023-05-29T01:27:29.965Z"
   },
   {
    "duration": 0,
    "start_time": "2023-05-29T01:27:29.966Z"
   },
   {
    "duration": 0,
    "start_time": "2023-05-29T01:27:29.967Z"
   },
   {
    "duration": 0,
    "start_time": "2023-05-29T01:27:29.968Z"
   },
   {
    "duration": 0,
    "start_time": "2023-05-29T01:27:29.969Z"
   },
   {
    "duration": 0,
    "start_time": "2023-05-29T01:27:29.970Z"
   },
   {
    "duration": 0,
    "start_time": "2023-05-29T01:27:29.971Z"
   },
   {
    "duration": 0,
    "start_time": "2023-05-29T01:27:29.972Z"
   },
   {
    "duration": 0,
    "start_time": "2023-05-29T01:27:29.973Z"
   },
   {
    "duration": 0,
    "start_time": "2023-05-29T01:27:29.975Z"
   },
   {
    "duration": 0,
    "start_time": "2023-05-29T01:27:29.976Z"
   },
   {
    "duration": 0,
    "start_time": "2023-05-29T01:27:29.977Z"
   },
   {
    "duration": 0,
    "start_time": "2023-05-29T01:27:29.978Z"
   },
   {
    "duration": 0,
    "start_time": "2023-05-29T01:27:29.979Z"
   },
   {
    "duration": 0,
    "start_time": "2023-05-29T01:27:29.980Z"
   },
   {
    "duration": 0,
    "start_time": "2023-05-29T01:27:29.981Z"
   },
   {
    "duration": 0,
    "start_time": "2023-05-29T01:27:29.982Z"
   },
   {
    "duration": 0,
    "start_time": "2023-05-29T01:27:29.984Z"
   },
   {
    "duration": 0,
    "start_time": "2023-05-29T01:27:29.985Z"
   },
   {
    "duration": 0,
    "start_time": "2023-05-29T01:27:29.986Z"
   },
   {
    "duration": 0,
    "start_time": "2023-05-29T01:27:29.987Z"
   },
   {
    "duration": 0,
    "start_time": "2023-05-29T01:27:29.989Z"
   },
   {
    "duration": 0,
    "start_time": "2023-05-29T01:27:29.990Z"
   },
   {
    "duration": 52,
    "start_time": "2023-05-29T01:28:10.255Z"
   },
   {
    "duration": 48,
    "start_time": "2023-05-29T01:28:37.078Z"
   },
   {
    "duration": 50,
    "start_time": "2023-05-29T01:29:02.015Z"
   },
   {
    "duration": 54,
    "start_time": "2023-05-29T01:29:30.252Z"
   },
   {
    "duration": 30,
    "start_time": "2023-05-29T01:29:40.452Z"
   },
   {
    "duration": 914,
    "start_time": "2023-05-29T01:29:56.662Z"
   },
   {
    "duration": 9,
    "start_time": "2023-05-29T01:29:57.578Z"
   },
   {
    "duration": 8,
    "start_time": "2023-05-29T01:29:57.589Z"
   },
   {
    "duration": 46,
    "start_time": "2023-05-29T01:29:57.599Z"
   },
   {
    "duration": 15,
    "start_time": "2023-05-29T01:29:57.647Z"
   },
   {
    "duration": 17,
    "start_time": "2023-05-29T01:29:57.663Z"
   },
   {
    "duration": 29,
    "start_time": "2023-05-29T01:29:57.682Z"
   },
   {
    "duration": 14,
    "start_time": "2023-05-29T01:29:57.713Z"
   },
   {
    "duration": 9,
    "start_time": "2023-05-29T01:29:57.729Z"
   },
   {
    "duration": 17,
    "start_time": "2023-05-29T01:29:57.742Z"
   },
   {
    "duration": 176,
    "start_time": "2023-05-29T01:29:57.761Z"
   },
   {
    "duration": 136,
    "start_time": "2023-05-29T01:29:57.939Z"
   },
   {
    "duration": 10,
    "start_time": "2023-05-29T01:29:58.077Z"
   },
   {
    "duration": 583,
    "start_time": "2023-05-29T01:29:58.088Z"
   },
   {
    "duration": 192,
    "start_time": "2023-05-29T01:29:58.673Z"
   },
   {
    "duration": 281,
    "start_time": "2023-05-29T01:29:58.866Z"
   },
   {
    "duration": 256,
    "start_time": "2023-05-29T01:29:59.149Z"
   },
   {
    "duration": 315,
    "start_time": "2023-05-29T01:29:59.407Z"
   },
   {
    "duration": 52,
    "start_time": "2023-05-29T01:29:59.724Z"
   },
   {
    "duration": 9,
    "start_time": "2023-05-29T01:29:59.778Z"
   },
   {
    "duration": 112,
    "start_time": "2023-05-29T01:29:59.789Z"
   },
   {
    "duration": 4,
    "start_time": "2023-05-29T01:29:59.903Z"
   },
   {
    "duration": 143,
    "start_time": "2023-05-29T01:29:59.909Z"
   },
   {
    "duration": 0,
    "start_time": "2023-05-29T01:30:00.054Z"
   },
   {
    "duration": 0,
    "start_time": "2023-05-29T01:30:00.055Z"
   },
   {
    "duration": 0,
    "start_time": "2023-05-29T01:30:00.057Z"
   },
   {
    "duration": 0,
    "start_time": "2023-05-29T01:30:00.058Z"
   },
   {
    "duration": 0,
    "start_time": "2023-05-29T01:30:00.060Z"
   },
   {
    "duration": 0,
    "start_time": "2023-05-29T01:30:00.061Z"
   },
   {
    "duration": 0,
    "start_time": "2023-05-29T01:30:00.062Z"
   },
   {
    "duration": 0,
    "start_time": "2023-05-29T01:30:00.063Z"
   },
   {
    "duration": 0,
    "start_time": "2023-05-29T01:30:00.065Z"
   },
   {
    "duration": 0,
    "start_time": "2023-05-29T01:30:00.066Z"
   },
   {
    "duration": 0,
    "start_time": "2023-05-29T01:30:00.068Z"
   },
   {
    "duration": 0,
    "start_time": "2023-05-29T01:30:00.069Z"
   },
   {
    "duration": 0,
    "start_time": "2023-05-29T01:30:00.071Z"
   },
   {
    "duration": 0,
    "start_time": "2023-05-29T01:30:00.072Z"
   },
   {
    "duration": 0,
    "start_time": "2023-05-29T01:30:00.073Z"
   },
   {
    "duration": 0,
    "start_time": "2023-05-29T01:30:00.074Z"
   },
   {
    "duration": 0,
    "start_time": "2023-05-29T01:30:00.075Z"
   },
   {
    "duration": 0,
    "start_time": "2023-05-29T01:30:00.076Z"
   },
   {
    "duration": 0,
    "start_time": "2023-05-29T01:30:00.077Z"
   },
   {
    "duration": 0,
    "start_time": "2023-05-29T01:30:00.078Z"
   },
   {
    "duration": 0,
    "start_time": "2023-05-29T01:30:00.079Z"
   },
   {
    "duration": 47,
    "start_time": "2023-05-29T01:30:16.473Z"
   },
   {
    "duration": 12,
    "start_time": "2023-05-29T01:30:33.255Z"
   },
   {
    "duration": 31,
    "start_time": "2023-05-29T01:30:35.199Z"
   },
   {
    "duration": 11,
    "start_time": "2023-05-29T01:30:40.493Z"
   },
   {
    "duration": 4,
    "start_time": "2023-05-29T01:30:43.675Z"
   },
   {
    "duration": 10,
    "start_time": "2023-05-29T01:30:49.121Z"
   },
   {
    "duration": 156,
    "start_time": "2023-05-29T01:30:53.056Z"
   },
   {
    "duration": 129,
    "start_time": "2023-05-29T01:30:57.019Z"
   },
   {
    "duration": 11,
    "start_time": "2023-05-29T01:31:00.583Z"
   },
   {
    "duration": 173,
    "start_time": "2023-05-29T01:31:05.649Z"
   },
   {
    "duration": 177,
    "start_time": "2023-05-29T01:31:11.949Z"
   },
   {
    "duration": 52,
    "start_time": "2023-05-29T01:31:38.516Z"
   },
   {
    "duration": 51,
    "start_time": "2023-05-29T01:31:54.274Z"
   },
   {
    "duration": 11,
    "start_time": "2023-05-29T01:32:00.177Z"
   },
   {
    "duration": 28,
    "start_time": "2023-05-29T01:32:10.685Z"
   },
   {
    "duration": 89,
    "start_time": "2023-05-29T01:32:14.417Z"
   },
   {
    "duration": 19,
    "start_time": "2023-05-29T01:32:17.540Z"
   },
   {
    "duration": 10,
    "start_time": "2023-05-29T01:32:38.006Z"
   },
   {
    "duration": 12,
    "start_time": "2023-05-29T01:32:43.776Z"
   },
   {
    "duration": 90,
    "start_time": "2023-05-29T01:32:47.793Z"
   },
   {
    "duration": 51,
    "start_time": "2023-05-29T01:32:52.357Z"
   },
   {
    "duration": 39,
    "start_time": "2023-05-29T01:32:54.882Z"
   },
   {
    "duration": 86,
    "start_time": "2023-05-29T01:32:57.618Z"
   },
   {
    "duration": 26,
    "start_time": "2023-05-29T01:33:00.507Z"
   },
   {
    "duration": 20,
    "start_time": "2023-05-29T01:33:21.504Z"
   },
   {
    "duration": 30,
    "start_time": "2023-05-29T01:34:22.245Z"
   },
   {
    "duration": 88,
    "start_time": "2023-05-29T01:34:30.747Z"
   },
   {
    "duration": 22,
    "start_time": "2023-05-29T01:34:42.054Z"
   },
   {
    "duration": 10,
    "start_time": "2023-05-29T01:35:21.645Z"
   },
   {
    "duration": 31,
    "start_time": "2023-05-29T01:35:50.889Z"
   },
   {
    "duration": 8,
    "start_time": "2023-05-29T01:35:54.276Z"
   },
   {
    "duration": 12,
    "start_time": "2023-05-29T01:35:57.413Z"
   },
   {
    "duration": 51,
    "start_time": "2023-05-29T01:36:06.746Z"
   },
   {
    "duration": 12,
    "start_time": "2023-05-29T01:36:10.061Z"
   },
   {
    "duration": 5,
    "start_time": "2023-05-29T01:36:13.212Z"
   },
   {
    "duration": 31,
    "start_time": "2023-05-29T01:36:15.669Z"
   },
   {
    "duration": 14,
    "start_time": "2023-05-29T01:36:18.741Z"
   },
   {
    "duration": 4,
    "start_time": "2023-05-29T01:36:22.050Z"
   },
   {
    "duration": 10,
    "start_time": "2023-05-29T01:36:25.275Z"
   },
   {
    "duration": 153,
    "start_time": "2023-05-29T01:36:27.651Z"
   },
   {
    "duration": 139,
    "start_time": "2023-05-29T01:36:31.648Z"
   },
   {
    "duration": 10,
    "start_time": "2023-05-29T01:36:34.410Z"
   },
   {
    "duration": 187,
    "start_time": "2023-05-29T01:36:39.641Z"
   },
   {
    "duration": 249,
    "start_time": "2023-05-29T01:36:45.147Z"
   },
   {
    "duration": 227,
    "start_time": "2023-05-29T01:36:55.491Z"
   },
   {
    "duration": 175,
    "start_time": "2023-05-29T01:37:02.690Z"
   },
   {
    "duration": 318,
    "start_time": "2023-05-29T01:37:09.626Z"
   },
   {
    "duration": 52,
    "start_time": "2023-05-29T01:37:17.145Z"
   },
   {
    "duration": 10,
    "start_time": "2023-05-29T01:37:20.346Z"
   },
   {
    "duration": 117,
    "start_time": "2023-05-29T01:37:23.526Z"
   },
   {
    "duration": 5,
    "start_time": "2023-05-29T01:37:29.824Z"
   },
   {
    "duration": 51,
    "start_time": "2023-05-29T01:37:35.871Z"
   },
   {
    "duration": 124,
    "start_time": "2023-05-29T01:37:38.874Z"
   },
   {
    "duration": 4,
    "start_time": "2023-05-29T01:37:44.981Z"
   },
   {
    "duration": 30,
    "start_time": "2023-05-29T01:37:52.209Z"
   },
   {
    "duration": 10,
    "start_time": "2023-05-29T01:37:55.453Z"
   },
   {
    "duration": 114,
    "start_time": "2023-05-29T01:37:58.204Z"
   },
   {
    "duration": 54,
    "start_time": "2023-05-29T01:38:01.547Z"
   },
   {
    "duration": 28,
    "start_time": "2023-05-29T01:38:04.642Z"
   },
   {
    "duration": 102,
    "start_time": "2023-05-29T01:38:08.441Z"
   },
   {
    "duration": 24,
    "start_time": "2023-05-29T01:38:11.593Z"
   },
   {
    "duration": 144,
    "start_time": "2023-05-29T01:38:18.500Z"
   },
   {
    "duration": 7,
    "start_time": "2023-05-29T01:38:25.651Z"
   },
   {
    "duration": 9,
    "start_time": "2023-05-29T01:38:28.690Z"
   },
   {
    "duration": 35,
    "start_time": "2023-05-29T01:38:37.342Z"
   },
   {
    "duration": 13,
    "start_time": "2023-05-29T01:38:45.375Z"
   },
   {
    "duration": 57,
    "start_time": "2023-05-29T01:38:50.882Z"
   },
   {
    "duration": 11,
    "start_time": "2023-05-29T01:38:53.991Z"
   },
   {
    "duration": 13,
    "start_time": "2023-05-29T01:38:59.621Z"
   },
   {
    "duration": 23,
    "start_time": "2023-05-29T01:39:01.755Z"
   },
   {
    "duration": 15,
    "start_time": "2023-05-29T01:39:11.755Z"
   },
   {
    "duration": 284,
    "start_time": "2023-05-29T01:39:44.074Z"
   },
   {
    "duration": 335,
    "start_time": "2023-05-29T01:39:48.961Z"
   },
   {
    "duration": 1159,
    "start_time": "2023-05-29T10:02:59.614Z"
   },
   {
    "duration": 11,
    "start_time": "2023-05-29T10:03:00.776Z"
   },
   {
    "duration": 148,
    "start_time": "2023-05-29T10:03:00.789Z"
   },
   {
    "duration": 245,
    "start_time": "2023-05-29T10:03:00.944Z"
   },
   {
    "duration": 11,
    "start_time": "2023-05-29T10:03:01.191Z"
   },
   {
    "duration": 155,
    "start_time": "2023-05-29T10:03:01.204Z"
   },
   {
    "duration": 122,
    "start_time": "2023-05-29T10:03:01.361Z"
   },
   {
    "duration": 10,
    "start_time": "2023-05-29T10:03:01.485Z"
   },
   {
    "duration": 27,
    "start_time": "2023-05-29T10:03:01.496Z"
   },
   {
    "duration": 96,
    "start_time": "2023-05-29T10:03:01.527Z"
   },
   {
    "duration": 251,
    "start_time": "2023-05-29T10:03:01.631Z"
   },
   {
    "duration": 182,
    "start_time": "2023-05-29T10:03:01.884Z"
   },
   {
    "duration": 111,
    "start_time": "2023-05-29T10:03:02.068Z"
   },
   {
    "duration": 982,
    "start_time": "2023-05-29T10:03:02.181Z"
   },
   {
    "duration": 226,
    "start_time": "2023-05-29T10:03:03.173Z"
   },
   {
    "duration": 351,
    "start_time": "2023-05-29T10:03:03.400Z"
   },
   {
    "duration": 253,
    "start_time": "2023-05-29T10:03:03.754Z"
   },
   {
    "duration": 373,
    "start_time": "2023-05-29T10:03:04.009Z"
   },
   {
    "duration": 92,
    "start_time": "2023-05-29T10:03:04.384Z"
   },
   {
    "duration": 13,
    "start_time": "2023-05-29T10:03:04.478Z"
   },
   {
    "duration": 174,
    "start_time": "2023-05-29T10:03:04.493Z"
   },
   {
    "duration": 4,
    "start_time": "2023-05-29T10:03:04.669Z"
   },
   {
    "duration": 127,
    "start_time": "2023-05-29T10:03:04.675Z"
   },
   {
    "duration": 247,
    "start_time": "2023-05-29T10:03:04.804Z"
   },
   {
    "duration": 7,
    "start_time": "2023-05-29T10:03:05.055Z"
   },
   {
    "duration": 43,
    "start_time": "2023-05-29T10:03:05.073Z"
   },
   {
    "duration": 29,
    "start_time": "2023-05-29T10:03:05.130Z"
   },
   {
    "duration": 141,
    "start_time": "2023-05-29T10:03:05.165Z"
   },
   {
    "duration": 24,
    "start_time": "2023-05-29T10:03:05.307Z"
   },
   {
    "duration": 66,
    "start_time": "2023-05-29T10:03:05.340Z"
   },
   {
    "duration": 163,
    "start_time": "2023-05-29T10:03:05.408Z"
   },
   {
    "duration": 26,
    "start_time": "2023-05-29T10:03:05.574Z"
   },
   {
    "duration": 196,
    "start_time": "2023-05-29T10:03:05.601Z"
   },
   {
    "duration": 7,
    "start_time": "2023-05-29T10:03:05.799Z"
   },
   {
    "duration": 73,
    "start_time": "2023-05-29T10:03:05.808Z"
   },
   {
    "duration": 66,
    "start_time": "2023-05-29T10:03:05.883Z"
   },
   {
    "duration": 17,
    "start_time": "2023-05-29T10:03:05.950Z"
   },
   {
    "duration": 134,
    "start_time": "2023-05-29T10:03:05.970Z"
   },
   {
    "duration": 10,
    "start_time": "2023-05-29T10:03:06.106Z"
   },
   {
    "duration": 68,
    "start_time": "2023-05-29T10:03:06.126Z"
   },
   {
    "duration": 79,
    "start_time": "2023-05-29T10:03:06.197Z"
   },
   {
    "duration": 17,
    "start_time": "2023-05-29T10:03:06.278Z"
   },
   {
    "duration": 387,
    "start_time": "2023-05-29T10:03:06.298Z"
   },
   {
    "duration": 336,
    "start_time": "2023-05-29T10:03:06.687Z"
   },
   {
    "duration": 903,
    "start_time": "2023-05-29T12:45:46.190Z"
   },
   {
    "duration": 10,
    "start_time": "2023-05-29T12:45:47.095Z"
   },
   {
    "duration": 9,
    "start_time": "2023-05-29T12:45:47.107Z"
   },
   {
    "duration": 208,
    "start_time": "2023-05-29T12:45:47.127Z"
   },
   {
    "duration": 14,
    "start_time": "2023-05-29T12:45:47.337Z"
   },
   {
    "duration": 10,
    "start_time": "2023-05-29T12:45:47.354Z"
   },
   {
    "duration": 81,
    "start_time": "2023-05-29T12:45:47.366Z"
   },
   {
    "duration": 11,
    "start_time": "2023-05-29T12:45:47.449Z"
   },
   {
    "duration": 11,
    "start_time": "2023-05-29T12:45:47.461Z"
   },
   {
    "duration": 16,
    "start_time": "2023-05-29T12:45:47.473Z"
   },
   {
    "duration": 207,
    "start_time": "2023-05-29T12:45:47.491Z"
   },
   {
    "duration": 144,
    "start_time": "2023-05-29T12:45:47.699Z"
   },
   {
    "duration": 15,
    "start_time": "2023-05-29T12:45:47.845Z"
   },
   {
    "duration": 850,
    "start_time": "2023-05-29T12:45:47.865Z"
   },
   {
    "duration": 185,
    "start_time": "2023-05-29T12:45:48.716Z"
   },
   {
    "duration": 339,
    "start_time": "2023-05-29T12:45:48.903Z"
   },
   {
    "duration": 206,
    "start_time": "2023-05-29T12:45:49.245Z"
   },
   {
    "duration": 317,
    "start_time": "2023-05-29T12:45:49.452Z"
   },
   {
    "duration": 65,
    "start_time": "2023-05-29T12:45:49.770Z"
   },
   {
    "duration": 16,
    "start_time": "2023-05-29T12:45:49.839Z"
   },
   {
    "duration": 149,
    "start_time": "2023-05-29T12:45:49.857Z"
   },
   {
    "duration": 6,
    "start_time": "2023-05-29T12:45:50.007Z"
   },
   {
    "duration": 52,
    "start_time": "2023-05-29T12:45:50.014Z"
   },
   {
    "duration": 129,
    "start_time": "2023-05-29T12:45:50.067Z"
   },
   {
    "duration": 3,
    "start_time": "2023-05-29T12:45:50.198Z"
   },
   {
    "duration": 50,
    "start_time": "2023-05-29T12:45:50.203Z"
   },
   {
    "duration": 13,
    "start_time": "2023-05-29T12:45:50.255Z"
   },
   {
    "duration": 98,
    "start_time": "2023-05-29T12:45:50.270Z"
   },
   {
    "duration": 10,
    "start_time": "2023-05-29T12:45:50.370Z"
   },
   {
    "duration": 69,
    "start_time": "2023-05-29T12:45:50.382Z"
   },
   {
    "duration": 111,
    "start_time": "2023-05-29T12:45:50.453Z"
   },
   {
    "duration": 25,
    "start_time": "2023-05-29T12:45:50.566Z"
   },
   {
    "duration": 164,
    "start_time": "2023-05-29T12:45:50.592Z"
   },
   {
    "duration": 7,
    "start_time": "2023-05-29T12:45:50.758Z"
   },
   {
    "duration": 20,
    "start_time": "2023-05-29T12:45:50.766Z"
   },
   {
    "duration": 63,
    "start_time": "2023-05-29T12:45:50.788Z"
   },
   {
    "duration": 31,
    "start_time": "2023-05-29T12:45:50.861Z"
   },
   {
    "duration": 85,
    "start_time": "2023-05-29T12:45:50.895Z"
   },
   {
    "duration": 9,
    "start_time": "2023-05-29T12:45:50.982Z"
   },
   {
    "duration": 13,
    "start_time": "2023-05-29T12:45:50.993Z"
   },
   {
    "duration": 183,
    "start_time": "2023-05-29T12:45:51.011Z"
   },
   {
    "duration": 13,
    "start_time": "2023-05-29T12:45:51.196Z"
   },
   {
    "duration": 341,
    "start_time": "2023-05-29T12:45:51.210Z"
   },
   {
    "duration": 398,
    "start_time": "2023-05-29T12:45:51.557Z"
   },
   {
    "duration": 54,
    "start_time": "2023-05-30T13:40:50.975Z"
   },
   {
    "duration": 875,
    "start_time": "2023-05-30T13:40:58.186Z"
   },
   {
    "duration": 45,
    "start_time": "2023-05-30T13:41:00.969Z"
   },
   {
    "duration": 29,
    "start_time": "2023-05-30T13:44:19.410Z"
   },
   {
    "duration": 31,
    "start_time": "2023-05-30T13:44:31.896Z"
   },
   {
    "duration": 30,
    "start_time": "2023-05-30T13:44:51.429Z"
   },
   {
    "duration": 10,
    "start_time": "2023-05-30T13:44:57.841Z"
   },
   {
    "duration": 4,
    "start_time": "2023-05-30T13:45:14.570Z"
   },
   {
    "duration": 30,
    "start_time": "2023-05-30T13:45:17.729Z"
   },
   {
    "duration": 61,
    "start_time": "2023-05-30T13:49:44.627Z"
   },
   {
    "duration": 9,
    "start_time": "2023-05-30T13:50:00.530Z"
   },
   {
    "duration": 8,
    "start_time": "2023-05-30T14:00:59.891Z"
   },
   {
    "duration": 10,
    "start_time": "2023-05-30T14:01:29.759Z"
   },
   {
    "duration": 57,
    "start_time": "2023-05-30T14:09:03.475Z"
   },
   {
    "duration": 5,
    "start_time": "2023-05-30T14:09:07.457Z"
   },
   {
    "duration": 9,
    "start_time": "2023-05-30T14:09:10.387Z"
   },
   {
    "duration": 31,
    "start_time": "2023-05-30T14:09:23.173Z"
   },
   {
    "duration": 11,
    "start_time": "2023-05-30T14:09:28.682Z"
   },
   {
    "duration": 4,
    "start_time": "2023-05-30T14:16:38.557Z"
   },
   {
    "duration": 21,
    "start_time": "2023-05-30T14:17:05.289Z"
   },
   {
    "duration": 28,
    "start_time": "2023-05-30T14:17:14.524Z"
   },
   {
    "duration": 10,
    "start_time": "2023-05-30T14:17:18.954Z"
   },
   {
    "duration": 4,
    "start_time": "2023-05-30T14:17:22.922Z"
   },
   {
    "duration": 6,
    "start_time": "2023-05-30T14:17:26.062Z"
   },
   {
    "duration": 9,
    "start_time": "2023-05-30T14:17:44.711Z"
   },
   {
    "duration": 5,
    "start_time": "2023-05-30T14:19:08.249Z"
   },
   {
    "duration": 15,
    "start_time": "2023-05-30T14:19:21.070Z"
   },
   {
    "duration": 8,
    "start_time": "2023-05-30T14:20:22.759Z"
   },
   {
    "duration": 9,
    "start_time": "2023-05-30T14:25:33.106Z"
   },
   {
    "duration": 10,
    "start_time": "2023-05-30T14:27:44.453Z"
   },
   {
    "duration": 13,
    "start_time": "2023-05-30T14:29:17.506Z"
   },
   {
    "duration": 8,
    "start_time": "2023-05-30T14:29:52.915Z"
   },
   {
    "duration": 31,
    "start_time": "2023-05-30T14:34:10.718Z"
   },
   {
    "duration": 7,
    "start_time": "2023-05-30T14:34:25.602Z"
   },
   {
    "duration": 8,
    "start_time": "2023-05-30T14:34:28.082Z"
   },
   {
    "duration": 33,
    "start_time": "2023-05-30T14:34:30.527Z"
   },
   {
    "duration": 15,
    "start_time": "2023-05-30T14:34:34.695Z"
   },
   {
    "duration": 12,
    "start_time": "2023-05-30T14:34:39.503Z"
   },
   {
    "duration": 57,
    "start_time": "2023-05-30T14:34:54.728Z"
   },
   {
    "duration": 7,
    "start_time": "2023-05-30T14:34:58.714Z"
   },
   {
    "duration": 54,
    "start_time": "2023-05-30T14:35:01.356Z"
   },
   {
    "duration": 16,
    "start_time": "2023-05-30T14:35:04.904Z"
   },
   {
    "duration": 4,
    "start_time": "2023-05-30T14:35:09.026Z"
   },
   {
    "duration": 14,
    "start_time": "2023-05-30T14:35:11.496Z"
   },
   {
    "duration": 9,
    "start_time": "2023-05-30T14:36:14.819Z"
   },
   {
    "duration": 6,
    "start_time": "2023-05-30T14:37:08.004Z"
   },
   {
    "duration": 20,
    "start_time": "2023-05-30T14:37:38.409Z"
   },
   {
    "duration": 8,
    "start_time": "2023-05-30T14:37:46.914Z"
   },
   {
    "duration": 14,
    "start_time": "2023-05-30T14:44:13.790Z"
   },
   {
    "duration": 6,
    "start_time": "2023-05-30T14:44:40.549Z"
   },
   {
    "duration": 5,
    "start_time": "2023-05-30T14:47:23.852Z"
   },
   {
    "duration": 69,
    "start_time": "2023-05-30T14:48:57.048Z"
   },
   {
    "duration": 10,
    "start_time": "2023-05-30T14:49:05.389Z"
   },
   {
    "duration": 11,
    "start_time": "2023-05-30T14:49:22.199Z"
   },
   {
    "duration": 10,
    "start_time": "2023-05-30T14:53:53.506Z"
   },
   {
    "duration": 12,
    "start_time": "2023-05-30T14:54:41.103Z"
   },
   {
    "duration": 10,
    "start_time": "2023-05-30T15:04:32.833Z"
   },
   {
    "duration": 14,
    "start_time": "2023-05-30T15:04:44.125Z"
   },
   {
    "duration": 220,
    "start_time": "2023-05-30T15:04:47.896Z"
   },
   {
    "duration": 153,
    "start_time": "2023-05-30T15:04:50.898Z"
   },
   {
    "duration": 188,
    "start_time": "2023-05-30T15:07:01.325Z"
   },
   {
    "duration": 191,
    "start_time": "2023-05-30T15:07:31.124Z"
   },
   {
    "duration": 144,
    "start_time": "2023-05-30T15:07:34.606Z"
   },
   {
    "duration": 30,
    "start_time": "2023-05-30T15:07:39.569Z"
   },
   {
    "duration": 578,
    "start_time": "2023-05-30T15:07:56.563Z"
   },
   {
    "duration": 192,
    "start_time": "2023-05-30T15:08:21.791Z"
   },
   {
    "duration": 24,
    "start_time": "2023-05-30T15:11:17.768Z"
   },
   {
    "duration": 16,
    "start_time": "2023-05-30T15:11:33.714Z"
   },
   {
    "duration": 19,
    "start_time": "2023-05-30T15:11:47.017Z"
   },
   {
    "duration": 12,
    "start_time": "2023-05-30T15:14:00.116Z"
   },
   {
    "duration": 13,
    "start_time": "2023-05-30T15:14:17.121Z"
   },
   {
    "duration": 12,
    "start_time": "2023-05-30T15:14:39.735Z"
   },
   {
    "duration": 149,
    "start_time": "2023-05-30T15:15:57.358Z"
   },
   {
    "duration": 11,
    "start_time": "2023-05-30T15:16:01.859Z"
   },
   {
    "duration": 13,
    "start_time": "2023-05-30T15:16:12.043Z"
   },
   {
    "duration": 103,
    "start_time": "2023-05-30T15:26:52.852Z"
   },
   {
    "duration": 1082,
    "start_time": "2023-05-30T15:27:58.449Z"
   },
   {
    "duration": 910,
    "start_time": "2023-05-30T15:29:52.835Z"
   },
   {
    "duration": 1034,
    "start_time": "2023-05-30T15:30:24.929Z"
   },
   {
    "duration": 203,
    "start_time": "2023-05-30T15:30:42.262Z"
   },
   {
    "duration": 198,
    "start_time": "2023-05-30T17:37:44.827Z"
   },
   {
    "duration": 215,
    "start_time": "2023-05-30T17:41:12.618Z"
   },
   {
    "duration": 199,
    "start_time": "2023-05-30T17:44:51.936Z"
   },
   {
    "duration": 214,
    "start_time": "2023-05-30T17:45:10.358Z"
   },
   {
    "duration": 200,
    "start_time": "2023-05-30T17:46:25.150Z"
   },
   {
    "duration": 199,
    "start_time": "2023-05-30T17:48:06.887Z"
   },
   {
    "duration": 271,
    "start_time": "2023-05-30T17:48:35.316Z"
   },
   {
    "duration": 198,
    "start_time": "2023-05-30T17:49:18.120Z"
   },
   {
    "duration": 206,
    "start_time": "2023-05-30T17:51:35.955Z"
   },
   {
    "duration": 191,
    "start_time": "2023-05-30T17:52:36.643Z"
   },
   {
    "duration": 281,
    "start_time": "2023-05-30T17:52:42.377Z"
   },
   {
    "duration": 216,
    "start_time": "2023-05-30T17:53:04.436Z"
   },
   {
    "duration": 209,
    "start_time": "2023-05-30T17:53:18.120Z"
   },
   {
    "duration": 229,
    "start_time": "2023-05-30T17:53:35.310Z"
   },
   {
    "duration": 268,
    "start_time": "2023-05-30T18:03:24.493Z"
   },
   {
    "duration": 193,
    "start_time": "2023-05-30T18:07:22.106Z"
   },
   {
    "duration": 201,
    "start_time": "2023-05-30T18:07:31.356Z"
   },
   {
    "duration": 206,
    "start_time": "2023-05-30T18:08:16.501Z"
   },
   {
    "duration": 303,
    "start_time": "2023-05-30T18:09:09.644Z"
   },
   {
    "duration": 196,
    "start_time": "2023-05-30T18:10:09.514Z"
   },
   {
    "duration": 233,
    "start_time": "2023-05-30T18:12:31.593Z"
   },
   {
    "duration": 206,
    "start_time": "2023-05-30T18:13:25.263Z"
   },
   {
    "duration": 229,
    "start_time": "2023-05-30T18:39:07.666Z"
   },
   {
    "duration": 346,
    "start_time": "2023-05-30T18:43:23.671Z"
   },
   {
    "duration": 320,
    "start_time": "2023-05-30T18:43:34.371Z"
   },
   {
    "duration": 227,
    "start_time": "2023-05-30T18:57:28.213Z"
   },
   {
    "duration": 202,
    "start_time": "2023-05-30T18:57:43.417Z"
   },
   {
    "duration": 208,
    "start_time": "2023-05-30T18:58:31.223Z"
   },
   {
    "duration": 248,
    "start_time": "2023-05-30T18:59:19.143Z"
   },
   {
    "duration": 316,
    "start_time": "2023-05-30T18:59:35.805Z"
   },
   {
    "duration": 222,
    "start_time": "2023-05-30T19:07:57.941Z"
   },
   {
    "duration": 328,
    "start_time": "2023-05-30T19:10:36.194Z"
   },
   {
    "duration": 248,
    "start_time": "2023-05-30T19:11:41.418Z"
   },
   {
    "duration": 281,
    "start_time": "2023-05-30T19:12:06.641Z"
   },
   {
    "duration": 351,
    "start_time": "2023-05-30T19:13:31.406Z"
   },
   {
    "duration": 313,
    "start_time": "2023-05-30T19:14:02.713Z"
   },
   {
    "duration": 326,
    "start_time": "2023-05-30T19:17:52.536Z"
   },
   {
    "duration": 23,
    "start_time": "2023-05-30T19:21:26.275Z"
   },
   {
    "duration": 135,
    "start_time": "2023-05-30T19:21:29.978Z"
   },
   {
    "duration": 933,
    "start_time": "2023-05-30T20:54:57.164Z"
   },
   {
    "duration": 5,
    "start_time": "2023-05-30T20:54:58.102Z"
   },
   {
    "duration": 47,
    "start_time": "2023-05-30T20:54:58.109Z"
   },
   {
    "duration": 13,
    "start_time": "2023-05-30T20:54:58.159Z"
   },
   {
    "duration": 22,
    "start_time": "2023-05-30T20:54:58.174Z"
   },
   {
    "duration": 42,
    "start_time": "2023-05-30T20:54:58.216Z"
   },
   {
    "duration": 11,
    "start_time": "2023-05-30T20:54:58.260Z"
   },
   {
    "duration": 18,
    "start_time": "2023-05-30T20:54:58.273Z"
   },
   {
    "duration": 30,
    "start_time": "2023-05-30T20:54:58.292Z"
   },
   {
    "duration": 11,
    "start_time": "2023-05-30T20:54:58.326Z"
   },
   {
    "duration": 5,
    "start_time": "2023-05-30T20:54:58.339Z"
   },
   {
    "duration": 7,
    "start_time": "2023-05-30T20:54:58.346Z"
   },
   {
    "duration": 6,
    "start_time": "2023-05-30T20:54:58.355Z"
   },
   {
    "duration": 6,
    "start_time": "2023-05-30T20:54:58.362Z"
   },
   {
    "duration": 10,
    "start_time": "2023-05-30T20:54:58.381Z"
   },
   {
    "duration": 14,
    "start_time": "2023-05-30T20:54:58.393Z"
   },
   {
    "duration": 14,
    "start_time": "2023-05-30T20:54:58.411Z"
   },
   {
    "duration": 16,
    "start_time": "2023-05-30T20:54:58.427Z"
   },
   {
    "duration": 35,
    "start_time": "2023-05-30T20:54:58.445Z"
   },
   {
    "duration": 28,
    "start_time": "2023-05-30T20:54:58.490Z"
   },
   {
    "duration": 71,
    "start_time": "2023-05-30T20:54:58.521Z"
   },
   {
    "duration": 0,
    "start_time": "2023-05-30T20:54:58.594Z"
   },
   {
    "duration": 0,
    "start_time": "2023-05-30T20:54:58.596Z"
   },
   {
    "duration": 0,
    "start_time": "2023-05-30T20:54:58.598Z"
   },
   {
    "duration": 0,
    "start_time": "2023-05-30T20:54:58.599Z"
   },
   {
    "duration": 0,
    "start_time": "2023-05-30T20:54:58.601Z"
   },
   {
    "duration": 0,
    "start_time": "2023-05-30T20:54:58.602Z"
   },
   {
    "duration": 0,
    "start_time": "2023-05-30T20:54:58.605Z"
   },
   {
    "duration": 0,
    "start_time": "2023-05-30T20:54:58.606Z"
   },
   {
    "duration": 0,
    "start_time": "2023-05-30T20:54:58.607Z"
   },
   {
    "duration": 0,
    "start_time": "2023-05-30T20:54:58.608Z"
   },
   {
    "duration": 0,
    "start_time": "2023-05-30T20:54:58.609Z"
   },
   {
    "duration": 8,
    "start_time": "2023-05-30T20:54:58.656Z"
   },
   {
    "duration": 15,
    "start_time": "2023-05-30T20:54:58.801Z"
   },
   {
    "duration": 114,
    "start_time": "2023-05-30T20:54:58.818Z"
   },
   {
    "duration": 10,
    "start_time": "2023-05-30T20:54:58.934Z"
   },
   {
    "duration": 57,
    "start_time": "2023-05-30T20:54:58.946Z"
   },
   {
    "duration": 107,
    "start_time": "2023-05-30T20:54:59.005Z"
   },
   {
    "duration": 25,
    "start_time": "2023-05-30T20:54:59.114Z"
   },
   {
    "duration": 0,
    "start_time": "2023-05-30T20:54:59.140Z"
   },
   {
    "duration": 0,
    "start_time": "2023-05-30T20:54:59.141Z"
   },
   {
    "duration": 0,
    "start_time": "2023-05-30T20:54:59.142Z"
   },
   {
    "duration": 0,
    "start_time": "2023-05-30T20:54:59.143Z"
   },
   {
    "duration": 0,
    "start_time": "2023-05-30T20:54:59.144Z"
   },
   {
    "duration": 0,
    "start_time": "2023-05-30T20:54:59.145Z"
   },
   {
    "duration": 0,
    "start_time": "2023-05-30T20:54:59.146Z"
   },
   {
    "duration": 0,
    "start_time": "2023-05-30T20:54:59.147Z"
   },
   {
    "duration": 0,
    "start_time": "2023-05-30T20:54:59.148Z"
   },
   {
    "duration": 0,
    "start_time": "2023-05-30T20:54:59.148Z"
   },
   {
    "duration": 0,
    "start_time": "2023-05-30T20:54:59.150Z"
   },
   {
    "duration": 0,
    "start_time": "2023-05-30T20:54:59.175Z"
   },
   {
    "duration": 8,
    "start_time": "2023-05-30T20:56:38.744Z"
   },
   {
    "duration": 8,
    "start_time": "2023-05-30T20:56:49.912Z"
   },
   {
    "duration": 20,
    "start_time": "2023-05-30T20:56:55.173Z"
   },
   {
    "duration": 12,
    "start_time": "2023-05-30T20:56:58.247Z"
   },
   {
    "duration": 3,
    "start_time": "2023-05-30T20:57:27.259Z"
   },
   {
    "duration": 5,
    "start_time": "2023-05-30T20:57:30.890Z"
   },
   {
    "duration": 30,
    "start_time": "2023-05-30T20:57:33.507Z"
   },
   {
    "duration": 12,
    "start_time": "2023-05-30T20:57:38.641Z"
   },
   {
    "duration": 12,
    "start_time": "2023-05-30T20:57:43.054Z"
   },
   {
    "duration": 55,
    "start_time": "2023-05-30T20:57:50.007Z"
   },
   {
    "duration": 5,
    "start_time": "2023-05-30T20:57:52.965Z"
   },
   {
    "duration": 49,
    "start_time": "2023-05-30T20:57:54.756Z"
   },
   {
    "duration": 4,
    "start_time": "2023-05-30T20:57:58.420Z"
   },
   {
    "duration": 7,
    "start_time": "2023-05-30T20:58:00.414Z"
   },
   {
    "duration": 7,
    "start_time": "2023-05-30T20:58:02.608Z"
   },
   {
    "duration": 6,
    "start_time": "2023-05-30T20:58:06.643Z"
   },
   {
    "duration": 5,
    "start_time": "2023-05-30T20:58:08.565Z"
   },
   {
    "duration": 14,
    "start_time": "2023-05-30T20:58:13.953Z"
   },
   {
    "duration": 11,
    "start_time": "2023-05-30T20:58:16.348Z"
   },
   {
    "duration": 7,
    "start_time": "2023-05-30T20:58:19.013Z"
   },
   {
    "duration": 12,
    "start_time": "2023-05-30T20:58:21.363Z"
   },
   {
    "duration": 11,
    "start_time": "2023-05-30T20:58:25.005Z"
   },
   {
    "duration": 173,
    "start_time": "2023-05-30T20:58:29.400Z"
   },
   {
    "duration": 170,
    "start_time": "2023-05-30T20:58:32.619Z"
   },
   {
    "duration": 14,
    "start_time": "2023-05-30T20:58:35.202Z"
   },
   {
    "duration": 537,
    "start_time": "2023-05-30T20:58:42.309Z"
   },
   {
    "duration": 266,
    "start_time": "2023-05-30T20:58:51.458Z"
   },
   {
    "duration": 287,
    "start_time": "2023-05-30T20:58:58.525Z"
   },
   {
    "duration": 231,
    "start_time": "2023-05-30T20:59:05.524Z"
   },
   {
    "duration": 307,
    "start_time": "2023-05-30T20:59:12.633Z"
   },
   {
    "duration": 9,
    "start_time": "2023-05-30T20:59:22.741Z"
   },
   {
    "duration": 130,
    "start_time": "2023-05-30T20:59:25.917Z"
   },
   {
    "duration": 5,
    "start_time": "2023-05-30T20:59:32.360Z"
   },
   {
    "duration": 132,
    "start_time": "2023-05-30T20:59:40.619Z"
   },
   {
    "duration": 4,
    "start_time": "2023-05-30T20:59:48.454Z"
   },
   {
    "duration": 16,
    "start_time": "2023-05-30T20:59:58.106Z"
   },
   {
    "duration": 98,
    "start_time": "2023-05-30T21:00:02.124Z"
   },
   {
    "duration": 64,
    "start_time": "2023-05-30T21:00:08.343Z"
   },
   {
    "duration": 54,
    "start_time": "2023-05-30T21:00:11.237Z"
   },
   {
    "duration": 42,
    "start_time": "2023-05-30T21:00:18.931Z"
   },
   {
    "duration": 108,
    "start_time": "2023-05-30T21:16:08.047Z"
   },
   {
    "duration": 28,
    "start_time": "2023-05-30T21:16:22.007Z"
   },
   {
    "duration": 114,
    "start_time": "2023-05-30T21:16:29.789Z"
   },
   {
    "duration": 21,
    "start_time": "2023-05-30T21:16:38.113Z"
   },
   {
    "duration": 9,
    "start_time": "2023-05-30T21:20:00.642Z"
   },
   {
    "duration": 32,
    "start_time": "2023-05-30T21:21:04.777Z"
   },
   {
    "duration": 50,
    "start_time": "2023-05-30T21:21:29.124Z"
   },
   {
    "duration": 10,
    "start_time": "2023-05-30T21:21:35.031Z"
   },
   {
    "duration": 18,
    "start_time": "2023-05-30T21:21:38.097Z"
   },
   {
    "duration": 40,
    "start_time": "2023-05-30T21:21:40.694Z"
   },
   {
    "duration": 12,
    "start_time": "2023-05-30T21:21:43.915Z"
   },
   {
    "duration": 4,
    "start_time": "2023-05-30T21:21:48.965Z"
   },
   {
    "duration": 7,
    "start_time": "2023-05-30T21:21:49.042Z"
   },
   {
    "duration": 7,
    "start_time": "2023-05-30T21:21:51.657Z"
   },
   {
    "duration": 10,
    "start_time": "2023-05-30T21:22:07.344Z"
   },
   {
    "duration": 9,
    "start_time": "2023-05-30T21:22:13.735Z"
   },
   {
    "duration": 4,
    "start_time": "2023-05-30T21:23:33.797Z"
   },
   {
    "duration": 96,
    "start_time": "2023-05-30T21:23:48.218Z"
   },
   {
    "duration": 15,
    "start_time": "2023-05-30T21:23:55.243Z"
   },
   {
    "duration": 5,
    "start_time": "2023-05-30T21:25:24.253Z"
   },
   {
    "duration": 122,
    "start_time": "2023-05-30T21:25:33.297Z"
   },
   {
    "duration": 23,
    "start_time": "2023-05-30T21:25:39.709Z"
   },
   {
    "duration": 37,
    "start_time": "2023-05-30T21:31:34.001Z"
   },
   {
    "duration": 151,
    "start_time": "2023-05-30T21:31:54.616Z"
   },
   {
    "duration": 6,
    "start_time": "2023-05-30T21:32:06.156Z"
   },
   {
    "duration": 10,
    "start_time": "2023-05-30T21:32:10.209Z"
   },
   {
    "duration": 27,
    "start_time": "2023-05-30T21:32:17.252Z"
   },
   {
    "duration": 12,
    "start_time": "2023-05-30T21:51:35.801Z"
   },
   {
    "duration": 107,
    "start_time": "2023-05-30T21:51:39.753Z"
   },
   {
    "duration": 7,
    "start_time": "2023-05-30T21:54:14.654Z"
   },
   {
    "duration": 23,
    "start_time": "2023-05-30T21:57:59.370Z"
   },
   {
    "duration": 5,
    "start_time": "2023-05-30T21:58:02.214Z"
   },
   {
    "duration": 33,
    "start_time": "2023-05-30T21:58:56.170Z"
   },
   {
    "duration": 10,
    "start_time": "2023-05-30T22:16:21.321Z"
   },
   {
    "duration": 11,
    "start_time": "2023-05-30T22:26:16.425Z"
   },
   {
    "duration": 25,
    "start_time": "2023-05-31T00:49:34.861Z"
   },
   {
    "duration": 9,
    "start_time": "2023-05-31T01:18:18.342Z"
   },
   {
    "duration": 9,
    "start_time": "2023-05-31T01:28:23.330Z"
   },
   {
    "duration": 9,
    "start_time": "2023-05-31T01:28:29.722Z"
   },
   {
    "duration": 23,
    "start_time": "2023-05-31T01:28:34.507Z"
   },
   {
    "duration": 14,
    "start_time": "2023-05-31T01:31:54.607Z"
   },
   {
    "duration": 391,
    "start_time": "2023-05-31T01:57:11.859Z"
   },
   {
    "duration": 276,
    "start_time": "2023-05-31T01:58:54.858Z"
   },
   {
    "duration": 832,
    "start_time": "2023-05-31T20:14:16.619Z"
   },
   {
    "duration": 4,
    "start_time": "2023-05-31T20:14:17.458Z"
   },
   {
    "duration": 96,
    "start_time": "2023-05-31T20:14:17.464Z"
   },
   {
    "duration": 22,
    "start_time": "2023-05-31T20:14:17.569Z"
   },
   {
    "duration": 9,
    "start_time": "2023-05-31T20:14:17.595Z"
   },
   {
    "duration": 122,
    "start_time": "2023-05-31T20:14:17.605Z"
   },
   {
    "duration": 11,
    "start_time": "2023-05-31T20:14:17.729Z"
   },
   {
    "duration": 7,
    "start_time": "2023-05-31T20:14:17.742Z"
   },
   {
    "duration": 86,
    "start_time": "2023-05-31T20:14:17.751Z"
   },
   {
    "duration": 12,
    "start_time": "2023-05-31T20:14:17.839Z"
   },
   {
    "duration": 10,
    "start_time": "2023-05-31T20:14:17.857Z"
   },
   {
    "duration": 23,
    "start_time": "2023-05-31T20:14:17.869Z"
   },
   {
    "duration": 5,
    "start_time": "2023-05-31T20:14:17.894Z"
   },
   {
    "duration": 6,
    "start_time": "2023-05-31T20:14:17.901Z"
   },
   {
    "duration": 5,
    "start_time": "2023-05-31T20:14:17.909Z"
   },
   {
    "duration": 19,
    "start_time": "2023-05-31T20:14:17.915Z"
   },
   {
    "duration": 76,
    "start_time": "2023-05-31T20:14:17.936Z"
   },
   {
    "duration": 13,
    "start_time": "2023-05-31T20:14:18.013Z"
   },
   {
    "duration": 12,
    "start_time": "2023-05-31T20:14:18.028Z"
   },
   {
    "duration": 14,
    "start_time": "2023-05-31T20:14:18.042Z"
   },
   {
    "duration": 160,
    "start_time": "2023-05-31T20:14:18.058Z"
   },
   {
    "duration": 0,
    "start_time": "2023-05-31T20:14:18.221Z"
   },
   {
    "duration": 0,
    "start_time": "2023-05-31T20:14:18.222Z"
   },
   {
    "duration": 0,
    "start_time": "2023-05-31T20:14:18.223Z"
   },
   {
    "duration": 0,
    "start_time": "2023-05-31T20:14:18.225Z"
   },
   {
    "duration": 0,
    "start_time": "2023-05-31T20:14:18.226Z"
   },
   {
    "duration": 0,
    "start_time": "2023-05-31T20:14:18.227Z"
   },
   {
    "duration": 0,
    "start_time": "2023-05-31T20:14:18.229Z"
   },
   {
    "duration": 0,
    "start_time": "2023-05-31T20:14:18.230Z"
   },
   {
    "duration": 0,
    "start_time": "2023-05-31T20:14:18.275Z"
   },
   {
    "duration": 0,
    "start_time": "2023-05-31T20:14:18.287Z"
   },
   {
    "duration": 0,
    "start_time": "2023-05-31T20:14:18.288Z"
   },
   {
    "duration": 1,
    "start_time": "2023-05-31T20:14:18.298Z"
   },
   {
    "duration": 0,
    "start_time": "2023-05-31T20:14:18.303Z"
   },
   {
    "duration": 0,
    "start_time": "2023-05-31T20:14:18.304Z"
   },
   {
    "duration": 1,
    "start_time": "2023-05-31T20:14:18.305Z"
   },
   {
    "duration": 0,
    "start_time": "2023-05-31T20:14:18.307Z"
   },
   {
    "duration": 1,
    "start_time": "2023-05-31T20:14:18.311Z"
   },
   {
    "duration": 0,
    "start_time": "2023-05-31T20:14:18.313Z"
   },
   {
    "duration": 0,
    "start_time": "2023-05-31T20:14:18.314Z"
   },
   {
    "duration": 0,
    "start_time": "2023-05-31T20:14:18.315Z"
   },
   {
    "duration": 0,
    "start_time": "2023-05-31T20:14:18.317Z"
   },
   {
    "duration": 0,
    "start_time": "2023-05-31T20:14:18.319Z"
   },
   {
    "duration": 0,
    "start_time": "2023-05-31T20:14:18.321Z"
   },
   {
    "duration": 0,
    "start_time": "2023-05-31T20:14:18.322Z"
   },
   {
    "duration": 0,
    "start_time": "2023-05-31T20:14:18.324Z"
   },
   {
    "duration": 0,
    "start_time": "2023-05-31T20:14:18.325Z"
   },
   {
    "duration": 0,
    "start_time": "2023-05-31T20:14:18.326Z"
   },
   {
    "duration": 0,
    "start_time": "2023-05-31T20:14:18.327Z"
   },
   {
    "duration": 0,
    "start_time": "2023-05-31T20:14:18.328Z"
   },
   {
    "duration": 0,
    "start_time": "2023-05-31T20:14:18.329Z"
   },
   {
    "duration": 0,
    "start_time": "2023-05-31T20:14:18.331Z"
   },
   {
    "duration": 21,
    "start_time": "2023-05-31T20:16:17.872Z"
   },
   {
    "duration": 17,
    "start_time": "2023-05-31T20:16:22.771Z"
   },
   {
    "duration": 552,
    "start_time": "2023-05-31T20:16:26.225Z"
   },
   {
    "duration": 10,
    "start_time": "2023-05-31T20:17:41.987Z"
   },
   {
    "duration": 830,
    "start_time": "2023-06-01T00:26:07.076Z"
   },
   {
    "duration": 3,
    "start_time": "2023-06-01T00:26:10.510Z"
   },
   {
    "duration": 76,
    "start_time": "2023-06-01T00:26:13.673Z"
   },
   {
    "duration": 13,
    "start_time": "2023-06-01T00:26:51.268Z"
   },
   {
    "duration": 8,
    "start_time": "2023-06-01T00:26:58.812Z"
   },
   {
    "duration": 99,
    "start_time": "2023-06-01T00:27:11.666Z"
   },
   {
    "duration": 5,
    "start_time": "2023-06-01T00:27:15.009Z"
   },
   {
    "duration": 89,
    "start_time": "2023-06-01T00:27:18.511Z"
   },
   {
    "duration": 70,
    "start_time": "2023-06-01T00:27:38.404Z"
   },
   {
    "duration": 10,
    "start_time": "2023-06-01T00:27:42.467Z"
   },
   {
    "duration": 4,
    "start_time": "2023-06-01T00:27:47.686Z"
   },
   {
    "duration": 7,
    "start_time": "2023-06-01T00:27:50.146Z"
   },
   {
    "duration": 7,
    "start_time": "2023-06-01T00:27:54.954Z"
   },
   {
    "duration": 5,
    "start_time": "2023-06-01T00:27:57.484Z"
   },
   {
    "duration": 6,
    "start_time": "2023-06-01T00:28:00.114Z"
   },
   {
    "duration": 9,
    "start_time": "2023-06-01T00:28:11.824Z"
   },
   {
    "duration": 10,
    "start_time": "2023-06-01T00:28:15.813Z"
   },
   {
    "duration": 9,
    "start_time": "2023-06-01T00:28:18.656Z"
   },
   {
    "duration": 8,
    "start_time": "2023-06-01T00:28:22.251Z"
   },
   {
    "duration": 9,
    "start_time": "2023-06-01T00:28:27.797Z"
   },
   {
    "duration": 155,
    "start_time": "2023-06-01T00:29:27.318Z"
   },
   {
    "duration": 108,
    "start_time": "2023-06-01T00:29:32.640Z"
   },
   {
    "duration": 15,
    "start_time": "2023-06-01T00:29:47.062Z"
   },
   {
    "duration": 662,
    "start_time": "2023-06-01T00:29:50.635Z"
   },
   {
    "duration": 163,
    "start_time": "2023-06-01T00:30:01.979Z"
   },
   {
    "duration": 315,
    "start_time": "2023-06-01T00:30:07.691Z"
   },
   {
    "duration": 196,
    "start_time": "2023-06-01T00:30:14.868Z"
   },
   {
    "duration": 306,
    "start_time": "2023-06-01T00:30:23.551Z"
   },
   {
    "duration": 9,
    "start_time": "2023-06-01T00:30:34.888Z"
   },
   {
    "duration": 109,
    "start_time": "2023-06-01T00:30:38.400Z"
   },
   {
    "duration": 5,
    "start_time": "2023-06-01T00:30:47.513Z"
   },
   {
    "duration": 117,
    "start_time": "2023-06-01T00:30:57.070Z"
   },
   {
    "duration": 4,
    "start_time": "2023-06-01T00:31:04.353Z"
   },
   {
    "duration": 13,
    "start_time": "2023-06-01T00:31:13.934Z"
   },
   {
    "duration": 7,
    "start_time": "2023-06-01T00:31:16.392Z"
   },
   {
    "duration": 83,
    "start_time": "2023-06-01T00:31:19.156Z"
   },
   {
    "duration": 31,
    "start_time": "2023-06-01T00:31:24.369Z"
   },
   {
    "duration": 13,
    "start_time": "2023-06-01T00:31:26.901Z"
   },
   {
    "duration": 6,
    "start_time": "2023-06-01T00:31:30.793Z"
   },
   {
    "duration": 94,
    "start_time": "2023-06-01T00:31:33.942Z"
   },
   {
    "duration": 873,
    "start_time": "2023-06-01T10:46:37.321Z"
   },
   {
    "duration": 3,
    "start_time": "2023-06-01T10:46:38.196Z"
   },
   {
    "duration": 82,
    "start_time": "2023-06-01T10:46:38.200Z"
   },
   {
    "duration": 15,
    "start_time": "2023-06-01T10:46:38.285Z"
   },
   {
    "duration": 11,
    "start_time": "2023-06-01T10:46:38.301Z"
   },
   {
    "duration": 95,
    "start_time": "2023-06-01T10:46:38.314Z"
   },
   {
    "duration": 12,
    "start_time": "2023-06-01T10:46:38.411Z"
   },
   {
    "duration": 10,
    "start_time": "2023-06-01T10:46:38.425Z"
   },
   {
    "duration": 59,
    "start_time": "2023-06-01T10:46:38.437Z"
   },
   {
    "duration": 10,
    "start_time": "2023-06-01T10:46:38.499Z"
   },
   {
    "duration": 10,
    "start_time": "2023-06-01T10:46:38.511Z"
   },
   {
    "duration": 11,
    "start_time": "2023-06-01T10:46:38.523Z"
   },
   {
    "duration": 5,
    "start_time": "2023-06-01T10:46:38.536Z"
   },
   {
    "duration": 9,
    "start_time": "2023-06-01T10:46:38.543Z"
   },
   {
    "duration": 11,
    "start_time": "2023-06-01T10:46:38.553Z"
   },
   {
    "duration": 9,
    "start_time": "2023-06-01T10:46:38.566Z"
   },
   {
    "duration": 11,
    "start_time": "2023-06-01T10:46:38.577Z"
   },
   {
    "duration": 7,
    "start_time": "2023-06-01T10:46:38.589Z"
   },
   {
    "duration": 9,
    "start_time": "2023-06-01T10:46:38.597Z"
   },
   {
    "duration": 35,
    "start_time": "2023-06-01T10:46:38.607Z"
   },
   {
    "duration": 170,
    "start_time": "2023-06-01T10:46:38.643Z"
   },
   {
    "duration": 131,
    "start_time": "2023-06-01T10:46:38.814Z"
   },
   {
    "duration": 13,
    "start_time": "2023-06-01T10:46:38.947Z"
   },
   {
    "duration": 553,
    "start_time": "2023-06-01T10:46:38.962Z"
   },
   {
    "duration": 195,
    "start_time": "2023-06-01T10:46:39.517Z"
   },
   {
    "duration": 339,
    "start_time": "2023-06-01T10:46:39.714Z"
   },
   {
    "duration": 220,
    "start_time": "2023-06-01T10:46:40.055Z"
   },
   {
    "duration": 300,
    "start_time": "2023-06-01T10:46:40.279Z"
   },
   {
    "duration": 12,
    "start_time": "2023-06-01T10:46:40.581Z"
   },
   {
    "duration": 134,
    "start_time": "2023-06-01T10:46:40.595Z"
   },
   {
    "duration": 13,
    "start_time": "2023-06-01T10:46:40.731Z"
   },
   {
    "duration": 162,
    "start_time": "2023-06-01T10:46:40.746Z"
   },
   {
    "duration": 5,
    "start_time": "2023-06-01T10:46:40.910Z"
   },
   {
    "duration": 28,
    "start_time": "2023-06-01T10:46:40.917Z"
   },
   {
    "duration": 14,
    "start_time": "2023-06-01T10:46:40.947Z"
   },
   {
    "duration": 99,
    "start_time": "2023-06-01T10:46:40.962Z"
   },
   {
    "duration": 33,
    "start_time": "2023-06-01T10:46:41.063Z"
   },
   {
    "duration": 12,
    "start_time": "2023-06-01T10:46:41.098Z"
   },
   {
    "duration": 13,
    "start_time": "2023-06-01T10:46:41.112Z"
   },
   {
    "duration": 108,
    "start_time": "2023-06-01T10:46:41.141Z"
   },
   {
    "duration": 24,
    "start_time": "2023-06-01T10:46:41.250Z"
   },
   {
    "duration": 150,
    "start_time": "2023-06-01T10:46:41.276Z"
   },
   {
    "duration": 16,
    "start_time": "2023-06-01T10:46:41.427Z"
   },
   {
    "duration": 18,
    "start_time": "2023-06-01T10:46:41.444Z"
   },
   {
    "duration": 25,
    "start_time": "2023-06-01T10:46:41.464Z"
   },
   {
    "duration": 11,
    "start_time": "2023-06-01T10:46:41.491Z"
   },
   {
    "duration": 9,
    "start_time": "2023-06-01T10:46:41.504Z"
   },
   {
    "duration": 31,
    "start_time": "2023-06-01T10:46:41.514Z"
   },
   {
    "duration": 30,
    "start_time": "2023-06-01T10:46:41.547Z"
   },
   {
    "duration": 14,
    "start_time": "2023-06-01T10:46:41.579Z"
   },
   {
    "duration": 312,
    "start_time": "2023-06-01T10:46:41.595Z"
   },
   {
    "duration": 317,
    "start_time": "2023-06-01T10:46:41.908Z"
   },
   {
    "duration": 959,
    "start_time": "2023-06-02T06:00:49.653Z"
   },
   {
    "duration": 3,
    "start_time": "2023-06-02T06:00:50.614Z"
   },
   {
    "duration": 127,
    "start_time": "2023-06-02T06:00:50.619Z"
   },
   {
    "duration": 12,
    "start_time": "2023-06-02T06:00:50.749Z"
   },
   {
    "duration": 8,
    "start_time": "2023-06-02T06:00:50.763Z"
   },
   {
    "duration": 161,
    "start_time": "2023-06-02T06:00:50.773Z"
   },
   {
    "duration": 11,
    "start_time": "2023-06-02T06:00:50.936Z"
   },
   {
    "duration": 20,
    "start_time": "2023-06-02T06:00:50.949Z"
   },
   {
    "duration": 72,
    "start_time": "2023-06-02T06:00:50.971Z"
   },
   {
    "duration": 13,
    "start_time": "2023-06-02T06:00:51.047Z"
   },
   {
    "duration": 15,
    "start_time": "2023-06-02T06:00:51.062Z"
   },
   {
    "duration": 19,
    "start_time": "2023-06-02T06:00:51.079Z"
   },
   {
    "duration": 30,
    "start_time": "2023-06-02T06:00:51.100Z"
   },
   {
    "duration": 43,
    "start_time": "2023-06-02T06:00:51.132Z"
   },
   {
    "duration": 34,
    "start_time": "2023-06-02T06:00:51.177Z"
   },
   {
    "duration": 16,
    "start_time": "2023-06-02T06:00:51.213Z"
   },
   {
    "duration": 22,
    "start_time": "2023-06-02T06:00:51.231Z"
   },
   {
    "duration": 16,
    "start_time": "2023-06-02T06:00:51.255Z"
   },
   {
    "duration": 26,
    "start_time": "2023-06-02T06:00:51.273Z"
   },
   {
    "duration": 31,
    "start_time": "2023-06-02T06:00:51.301Z"
   },
   {
    "duration": 185,
    "start_time": "2023-06-02T06:00:51.334Z"
   },
   {
    "duration": 168,
    "start_time": "2023-06-02T06:00:51.521Z"
   },
   {
    "duration": 12,
    "start_time": "2023-06-02T06:00:51.691Z"
   },
   {
    "duration": 643,
    "start_time": "2023-06-02T06:00:51.705Z"
   },
   {
    "duration": 201,
    "start_time": "2023-06-02T06:00:52.350Z"
   },
   {
    "duration": 340,
    "start_time": "2023-06-02T06:00:52.553Z"
   },
   {
    "duration": 205,
    "start_time": "2023-06-02T06:00:52.896Z"
   },
   {
    "duration": 353,
    "start_time": "2023-06-02T06:00:53.105Z"
   },
   {
    "duration": 12,
    "start_time": "2023-06-02T06:00:53.460Z"
   },
   {
    "duration": 128,
    "start_time": "2023-06-02T06:00:53.474Z"
   },
   {
    "duration": 4,
    "start_time": "2023-06-02T06:00:53.604Z"
   },
   {
    "duration": 135,
    "start_time": "2023-06-02T06:00:53.611Z"
   },
   {
    "duration": 6,
    "start_time": "2023-06-02T06:00:53.748Z"
   },
   {
    "duration": 20,
    "start_time": "2023-06-02T06:00:53.756Z"
   },
   {
    "duration": 14,
    "start_time": "2023-06-02T06:00:53.777Z"
   },
   {
    "duration": 116,
    "start_time": "2023-06-02T06:00:53.793Z"
   },
   {
    "duration": 40,
    "start_time": "2023-06-02T06:00:53.911Z"
   },
   {
    "duration": 24,
    "start_time": "2023-06-02T06:00:53.953Z"
   },
   {
    "duration": 13,
    "start_time": "2023-06-02T06:00:53.979Z"
   },
   {
    "duration": 100,
    "start_time": "2023-06-02T06:00:53.994Z"
   },
   {
    "duration": 35,
    "start_time": "2023-06-02T06:00:54.096Z"
   },
   {
    "duration": 218,
    "start_time": "2023-06-02T06:00:54.133Z"
   },
   {
    "duration": 9,
    "start_time": "2023-06-02T06:00:54.353Z"
   },
   {
    "duration": 49,
    "start_time": "2023-06-02T06:00:54.363Z"
   },
   {
    "duration": 32,
    "start_time": "2023-06-02T06:00:54.415Z"
   },
   {
    "duration": 15,
    "start_time": "2023-06-02T06:00:54.449Z"
   },
   {
    "duration": 48,
    "start_time": "2023-06-02T06:00:54.466Z"
   },
   {
    "duration": 22,
    "start_time": "2023-06-02T06:00:54.516Z"
   },
   {
    "duration": 52,
    "start_time": "2023-06-02T06:00:54.539Z"
   },
   {
    "duration": 15,
    "start_time": "2023-06-02T06:00:54.593Z"
   },
   {
    "duration": 288,
    "start_time": "2023-06-02T06:00:54.610Z"
   },
   {
    "duration": 286,
    "start_time": "2023-06-02T06:00:54.900Z"
   },
   {
    "duration": 894,
    "start_time": "2023-06-03T06:33:28.044Z"
   },
   {
    "duration": 3,
    "start_time": "2023-06-03T06:33:28.940Z"
   },
   {
    "duration": 149,
    "start_time": "2023-06-03T06:33:28.944Z"
   },
   {
    "duration": 49,
    "start_time": "2023-06-03T06:33:29.095Z"
   },
   {
    "duration": 22,
    "start_time": "2023-06-03T06:33:29.147Z"
   },
   {
    "duration": 109,
    "start_time": "2023-06-03T06:33:29.171Z"
   },
   {
    "duration": 11,
    "start_time": "2023-06-03T06:33:29.282Z"
   },
   {
    "duration": 45,
    "start_time": "2023-06-03T06:33:29.296Z"
   },
   {
    "duration": 74,
    "start_time": "2023-06-03T06:33:29.343Z"
   },
   {
    "duration": 13,
    "start_time": "2023-06-03T06:33:29.419Z"
   },
   {
    "duration": 45,
    "start_time": "2023-06-03T06:33:29.435Z"
   },
   {
    "duration": 27,
    "start_time": "2023-06-03T06:33:29.481Z"
   },
   {
    "duration": 21,
    "start_time": "2023-06-03T06:33:29.509Z"
   },
   {
    "duration": 14,
    "start_time": "2023-06-03T06:33:29.534Z"
   },
   {
    "duration": 19,
    "start_time": "2023-06-03T06:33:29.550Z"
   },
   {
    "duration": 23,
    "start_time": "2023-06-03T06:33:29.571Z"
   },
   {
    "duration": 41,
    "start_time": "2023-06-03T06:33:29.596Z"
   },
   {
    "duration": 21,
    "start_time": "2023-06-03T06:33:29.640Z"
   },
   {
    "duration": 46,
    "start_time": "2023-06-03T06:33:29.663Z"
   },
   {
    "duration": 37,
    "start_time": "2023-06-03T06:33:29.711Z"
   },
   {
    "duration": 222,
    "start_time": "2023-06-03T06:33:29.750Z"
   },
   {
    "duration": 127,
    "start_time": "2023-06-03T06:33:29.974Z"
   },
   {
    "duration": 12,
    "start_time": "2023-06-03T06:33:30.102Z"
   },
   {
    "duration": 550,
    "start_time": "2023-06-03T06:33:30.116Z"
   },
   {
    "duration": 184,
    "start_time": "2023-06-03T06:33:30.668Z"
   },
   {
    "duration": 313,
    "start_time": "2023-06-03T06:33:30.853Z"
   },
   {
    "duration": 211,
    "start_time": "2023-06-03T06:33:31.168Z"
   },
   {
    "duration": 313,
    "start_time": "2023-06-03T06:33:31.380Z"
   },
   {
    "duration": 12,
    "start_time": "2023-06-03T06:33:31.694Z"
   },
   {
    "duration": 285,
    "start_time": "2023-06-03T06:33:31.708Z"
   },
   {
    "duration": 5,
    "start_time": "2023-06-03T06:33:31.995Z"
   },
   {
    "duration": 138,
    "start_time": "2023-06-03T06:33:32.002Z"
   },
   {
    "duration": 5,
    "start_time": "2023-06-03T06:33:32.141Z"
   },
   {
    "duration": 18,
    "start_time": "2023-06-03T06:33:32.148Z"
   },
   {
    "duration": 24,
    "start_time": "2023-06-03T06:33:32.168Z"
   },
   {
    "duration": 127,
    "start_time": "2023-06-03T06:33:32.194Z"
   },
   {
    "duration": 42,
    "start_time": "2023-06-03T06:33:32.323Z"
   },
   {
    "duration": 18,
    "start_time": "2023-06-03T06:33:32.367Z"
   },
   {
    "duration": 10,
    "start_time": "2023-06-03T06:33:32.387Z"
   },
   {
    "duration": 135,
    "start_time": "2023-06-03T06:33:32.399Z"
   },
   {
    "duration": 23,
    "start_time": "2023-06-03T06:33:32.537Z"
   },
   {
    "duration": 223,
    "start_time": "2023-06-03T06:33:32.562Z"
   },
   {
    "duration": 8,
    "start_time": "2023-06-03T06:33:32.787Z"
   },
   {
    "duration": 13,
    "start_time": "2023-06-03T06:33:32.797Z"
   },
   {
    "duration": 61,
    "start_time": "2023-06-03T06:33:32.812Z"
   },
   {
    "duration": 12,
    "start_time": "2023-06-03T06:33:32.874Z"
   },
   {
    "duration": 10,
    "start_time": "2023-06-03T06:33:32.888Z"
   },
   {
    "duration": 22,
    "start_time": "2023-06-03T06:33:32.899Z"
   },
   {
    "duration": 39,
    "start_time": "2023-06-03T06:33:32.923Z"
   },
   {
    "duration": 37,
    "start_time": "2023-06-03T06:33:32.964Z"
   },
   {
    "duration": 363,
    "start_time": "2023-06-03T06:33:33.002Z"
   },
   {
    "duration": 323,
    "start_time": "2023-06-03T06:33:33.367Z"
   },
   {
    "duration": 899,
    "start_time": "2023-07-10T00:54:50.321Z"
   },
   {
    "duration": 3,
    "start_time": "2023-07-10T00:54:54.963Z"
   },
   {
    "duration": 74,
    "start_time": "2023-07-10T00:54:57.477Z"
   },
   {
    "duration": 12,
    "start_time": "2023-07-10T00:55:30.983Z"
   },
   {
    "duration": 9,
    "start_time": "2023-07-10T00:55:35.672Z"
   },
   {
    "duration": 102,
    "start_time": "2023-07-10T00:55:48.164Z"
   },
   {
    "duration": 11,
    "start_time": "2023-07-10T00:55:51.560Z"
   },
   {
    "duration": 5,
    "start_time": "2023-07-10T00:55:54.602Z"
   },
   {
    "duration": 68,
    "start_time": "2023-07-10T00:55:57.946Z"
   },
   {
    "duration": 13,
    "start_time": "2023-07-10T00:56:00.445Z"
   },
   {
    "duration": 4,
    "start_time": "2023-07-10T00:56:03.289Z"
   },
   {
    "duration": 6,
    "start_time": "2023-07-10T00:56:05.715Z"
   },
   {
    "duration": 6,
    "start_time": "2023-07-10T00:56:08.536Z"
   },
   {
    "duration": 5,
    "start_time": "2023-07-10T00:56:10.744Z"
   },
   {
    "duration": 7,
    "start_time": "2023-07-10T00:56:13.333Z"
   },
   {
    "duration": 6,
    "start_time": "2023-07-10T00:56:15.723Z"
   },
   {
    "duration": 9,
    "start_time": "2023-07-10T00:56:29.857Z"
   },
   {
    "duration": 12,
    "start_time": "2023-07-10T00:56:33.044Z"
   },
   {
    "duration": 9,
    "start_time": "2023-07-10T00:56:36.322Z"
   },
   {
    "duration": 9,
    "start_time": "2023-07-10T00:56:39.485Z"
   },
   {
    "duration": 10,
    "start_time": "2023-07-10T00:56:44.899Z"
   },
   {
    "duration": 160,
    "start_time": "2023-07-10T00:56:48.888Z"
   },
   {
    "duration": 154,
    "start_time": "2023-07-10T00:56:58.145Z"
   },
   {
    "duration": 15,
    "start_time": "2023-07-10T00:57:01.644Z"
   },
   {
    "duration": 563,
    "start_time": "2023-07-10T00:57:09.044Z"
   },
   {
    "duration": 207,
    "start_time": "2023-07-10T00:57:30.410Z"
   },
   {
    "duration": 283,
    "start_time": "2023-07-10T00:57:41.072Z"
   },
   {
    "duration": 217,
    "start_time": "2023-07-10T00:57:51.213Z"
   },
   {
    "duration": 291,
    "start_time": "2023-07-10T00:58:04.214Z"
   },
   {
    "duration": 12,
    "start_time": "2023-07-10T00:58:34.254Z"
   },
   {
    "duration": 115,
    "start_time": "2023-07-10T00:58:39.958Z"
   },
   {
    "duration": 5,
    "start_time": "2023-07-10T00:58:50.177Z"
   },
   {
    "duration": 121,
    "start_time": "2023-07-10T00:59:06.164Z"
   },
   {
    "duration": 4,
    "start_time": "2023-07-10T00:59:16.796Z"
   },
   {
    "duration": 12,
    "start_time": "2023-07-10T00:59:29.291Z"
   },
   {
    "duration": 9,
    "start_time": "2023-07-10T00:59:31.591Z"
   },
   {
    "duration": 91,
    "start_time": "2023-07-10T00:59:35.180Z"
   },
   {
    "duration": 28,
    "start_time": "2023-07-10T00:59:44.228Z"
   },
   {
    "duration": 10,
    "start_time": "2023-07-10T00:59:47.870Z"
   },
   {
    "duration": 4,
    "start_time": "2023-07-10T00:59:53.003Z"
   },
   {
    "duration": 103,
    "start_time": "2023-07-10T00:59:57.996Z"
   },
   {
    "duration": 25,
    "start_time": "2023-07-10T01:00:03.495Z"
   },
   {
    "duration": 130,
    "start_time": "2023-07-10T01:00:11.516Z"
   },
   {
    "duration": 7,
    "start_time": "2023-07-10T01:00:17.904Z"
   },
   {
    "duration": 9,
    "start_time": "2023-07-10T01:00:21.942Z"
   },
   {
    "duration": 23,
    "start_time": "2023-07-10T01:00:36.562Z"
   },
   {
    "duration": 11,
    "start_time": "2023-07-10T01:00:53.255Z"
   },
   {
    "duration": 10,
    "start_time": "2023-07-10T01:01:16.703Z"
   },
   {
    "duration": 8,
    "start_time": "2023-07-10T01:01:26.593Z"
   },
   {
    "duration": 23,
    "start_time": "2023-07-10T01:01:35.652Z"
   },
   {
    "duration": 14,
    "start_time": "2023-07-10T01:01:46.573Z"
   },
   {
    "duration": 274,
    "start_time": "2023-07-10T01:02:06.680Z"
   },
   {
    "duration": 254,
    "start_time": "2023-07-10T01:02:11.970Z"
   }
  ],
  "kernelspec": {
   "display_name": "Python 3 (ipykernel)",
   "language": "python",
   "name": "python3"
  },
  "language_info": {
   "codemirror_mode": {
    "name": "ipython",
    "version": 3
   },
   "file_extension": ".py",
   "mimetype": "text/x-python",
   "name": "python",
   "nbconvert_exporter": "python",
   "pygments_lexer": "ipython3",
   "version": "3.9.17"
  },
  "toc": {
   "base_numbering": 1,
   "nav_menu": {},
   "number_sections": true,
   "sideBar": true,
   "skip_h1_title": true,
   "title_cell": "Table of Contents",
   "title_sidebar": "Contents",
   "toc_cell": false,
   "toc_position": {},
   "toc_section_display": true,
   "toc_window_display": false
  }
 },
 "nbformat": 4,
 "nbformat_minor": 5
}
